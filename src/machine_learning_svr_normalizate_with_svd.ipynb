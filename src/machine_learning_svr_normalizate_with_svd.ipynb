{
 "cells": [
  {
   "cell_type": "code",
   "execution_count": 1,
   "metadata": {
    "collapsed": true,
    "deletable": true,
    "editable": true
   },
   "outputs": [],
   "source": [
    "import pandas as pd\n",
    "import numpy as np\n",
    "import matplotlib.pyplot as plt\n",
    "from sklearn.metrics import mean_squared_error\n",
    "\n",
    "%matplotlib inline\n",
    "\n",
    "plt.style.use('default') # Make the graphs a bit prettier\n",
    "\n",
    "plt.rcParams['figure.figsize'] = (12, 4)"
   ]
  },
  {
   "cell_type": "code",
   "execution_count": 2,
   "metadata": {
    "collapsed": false,
    "deletable": true,
    "editable": true
   },
   "outputs": [
    {
     "name": "stderr",
     "output_type": "stream",
     "text": [
      "/usr/local/lib/python2.7/dist-packages/statsmodels/compat/pandas.py:56: FutureWarning: The pandas.core.datetools module is deprecated and will be removed in a future version. Please use the pandas.tseries module instead.\n",
      "  from pandas.core import datetools\n"
     ]
    }
   ],
   "source": [
    "#pip install -U statsmodels\n",
    "import statsmodels.api as sm "
   ]
  },
  {
   "cell_type": "markdown",
   "metadata": {
    "deletable": true,
    "editable": true
   },
   "source": [
    "#  Preprocesamiento de Datos"
   ]
  },
  {
   "cell_type": "markdown",
   "metadata": {
    "deletable": true,
    "editable": true
   },
   "source": [
    "Los datos fueron provistos por [Properati](http://www.properati.com.ar) y reorganizo en un solo dataset de la siguiente manera : [GitHub | properati_argentina](https://github.com/BraianVicente/properati_argentina/blob/master/src/TP1%20-%20Properati%20-%20Parseo%20de%20datos%20por%20fecha.ipynb)"
   ]
  },
  {
   "cell_type": "code",
   "execution_count": 3,
   "metadata": {
    "collapsed": false,
    "deletable": true,
    "editable": true
   },
   "outputs": [],
   "source": [
    "sell_properati = pd.read_csv('../data/properati_full_month.csv',low_memory=False)"
   ]
  },
  {
   "cell_type": "markdown",
   "metadata": {
    "collapsed": true,
    "deletable": true,
    "editable": true
   },
   "source": [
    "Transformando el formato del feature created_on para manejarlo como fecha"
   ]
  },
  {
   "cell_type": "markdown",
   "metadata": {
    "deletable": true,
    "editable": true
   },
   "source": [
    "Completamos la columna 'state_name'"
   ]
  },
  {
   "cell_type": "code",
   "execution_count": 4,
   "metadata": {
    "collapsed": true,
    "deletable": true,
    "editable": true
   },
   "outputs": [],
   "source": [
    "sell_properati['state_name'] = sell_properati.place_with_parent_names.apply(lambda x : x.split('|')[2])"
   ]
  },
  {
   "cell_type": "markdown",
   "metadata": {
    "deletable": true,
    "editable": true
   },
   "source": [
    "Filtramos unicamente los que nos interesan que corresponde a capital federal y alrededores"
   ]
  },
  {
   "cell_type": "code",
   "execution_count": 5,
   "metadata": {
    "collapsed": false,
    "deletable": true,
    "editable": true
   },
   "outputs": [],
   "source": [
    "sell_properati = sell_properati[\n",
    "    (sell_properati['state_name'] == 'Bs.As. G.B.A. Zona Norte' ) |\n",
    "    (sell_properati['state_name'] == 'Bs.As. G.B.A. Zona Sur' ) |\n",
    "    (sell_properati['state_name'] == 'Bs.As. G.B.A. Zona Oeste' ) |\n",
    "    (sell_properati['state_name'] == 'Capital Federal' ) \n",
    "    ]"
   ]
  },
  {
   "cell_type": "code",
   "execution_count": 6,
   "metadata": {
    "collapsed": true,
    "deletable": true,
    "editable": true
   },
   "outputs": [],
   "source": [
    "sell_properati['zone'] = sell_properati.place_with_parent_names.apply(lambda x : x.split('|')[3])"
   ]
  },
  {
   "cell_type": "markdown",
   "metadata": {
    "deletable": true,
    "editable": true
   },
   "source": [
    "Filtramos por los datos que son reelevantes para nuestro analisis, obteniendo unicamente las propiedades de GBA y capital federal"
   ]
  },
  {
   "cell_type": "code",
   "execution_count": 7,
   "metadata": {
    "collapsed": false,
    "deletable": true,
    "editable": true
   },
   "outputs": [],
   "source": [
    "sell_properati.drop(inplace=True,\\\n",
    "    labels=['country_name','description','extra','id', u'image_thumbnail','operation'\\\n",
    "            ,'place_with_parent_names_l1','place_with_parent_names_l2', 'properati_url','surface_in_m2','title',\\\n",
    "           ],axis=1)"
   ]
  },
  {
   "cell_type": "markdown",
   "metadata": {
    "deletable": true,
    "editable": true
   },
   "source": [
    "Podemos seguir trabajando con los datos que no cuentan con la informacion de Zona utilizando la ubicacion para identificarlos segun el barrio al que pertenecen pero en esta ocacion decidimos dejarlos de lado pues no son una cantidad significativa de datos"
   ]
  },
  {
   "cell_type": "markdown",
   "metadata": {
    "deletable": true,
    "editable": true
   },
   "source": [
    "#### Las propiedades del tigre son las unicas que no contienen informacion en 'place_name'"
   ]
  },
  {
   "cell_type": "code",
   "execution_count": 8,
   "metadata": {
    "collapsed": false,
    "deletable": true,
    "editable": true
   },
   "outputs": [],
   "source": [
    "sell_properati.loc[pd.isnull(sell_properati['place_name']),'place_name'] = sell_properati.place_name.apply(lambda x : x if pd.notnull(x) else 'Tigre' )"
   ]
  },
  {
   "cell_type": "code",
   "execution_count": 9,
   "metadata": {
    "collapsed": false,
    "deletable": true,
    "editable": true
   },
   "outputs": [],
   "source": [
    "sell_properati = sell_properati[sell_properati['zone'] != '']"
   ]
  },
  {
   "cell_type": "code",
   "execution_count": 10,
   "metadata": {
    "collapsed": true,
    "deletable": true,
    "editable": true
   },
   "outputs": [],
   "source": [
    "#Calcula el precio la incognita (incognita = divisor/dividendo) para todo divisor mayor a cero y todo dividendo mayor a cero.\n",
    "\n",
    "def dataframe_calc_value(df,incognita,divisor,dividendo):\n",
    "    df.loc[ (pd.isnull(df[incognita])) |  (df[incognita] == 0 ) & (pd.notnull(df[divisor]) ) & (df[divisor] > 0) & \\\n",
    "            (pd.notnull(df[dividendo]) & (df[dividendo] > 0)) ,incognita] = \\\n",
    "    df.loc[ (pd.isnull(df[incognita])) |  (df[incognita] == 0 ) & (pd.notnull(df[divisor]) ) & (df[divisor] > 0) & \\\n",
    "            (pd.notnull(df[dividendo]) & (df[dividendo] > 0))][divisor] / \\\n",
    "    df.loc[ (pd.isnull(df[incognita])) |  (df[incognita] == 0 ) & (pd.notnull(df[divisor]) ) & (df[divisor] > 0) & \\\n",
    "            (pd.notnull(df[dividendo]) & (df[dividendo] > 0))][dividendo]"
   ]
  },
  {
   "cell_type": "code",
   "execution_count": null,
   "metadata": {
    "collapsed": true,
    "deletable": true,
    "editable": true
   },
   "outputs": [],
   "source": []
  },
  {
   "cell_type": "markdown",
   "metadata": {
    "deletable": true,
    "editable": true
   },
   "source": [
    "# Continuaremos trabajando con el set de datos completo para disponer de toda la informacion."
   ]
  },
  {
   "cell_type": "markdown",
   "metadata": {
    "deletable": true,
    "editable": true
   },
   "source": [
    "### Se agrega la superficie total de los inmbuebles que disponen del precio por metro cuadrado en dolares\n"
   ]
  },
  {
   "cell_type": "code",
   "execution_count": 11,
   "metadata": {
    "collapsed": false,
    "deletable": true,
    "editable": true
   },
   "outputs": [],
   "source": [
    "sell_properati_filter = sell_properati"
   ]
  },
  {
   "cell_type": "code",
   "execution_count": null,
   "metadata": {
    "collapsed": true,
    "deletable": true,
    "editable": true
   },
   "outputs": [],
   "source": []
  },
  {
   "cell_type": "code",
   "execution_count": 12,
   "metadata": {
    "collapsed": true,
    "deletable": true,
    "editable": true
   },
   "outputs": [],
   "source": [
    "dataframe_calc_value(sell_properati_filter,'surface_total_in_m2','price_aprox_usd','price_usd_per_m2')"
   ]
  },
  {
   "cell_type": "markdown",
   "metadata": {
    "deletable": true,
    "editable": true
   },
   "source": [
    "### Calculamos la superficie total en metros cuadrados de las propiedades que no cuentan con este dato"
   ]
  },
  {
   "cell_type": "code",
   "execution_count": 13,
   "metadata": {
    "collapsed": true,
    "deletable": true,
    "editable": true
   },
   "outputs": [],
   "source": [
    "dataframe_calc_value(sell_properati_filter,'surface_total_in_m2','price','price_per_m2')"
   ]
  },
  {
   "cell_type": "markdown",
   "metadata": {
    "deletable": true,
    "editable": true
   },
   "source": [
    "### Calculamos el precio por metro cuadrado en USD de los inmuebles que no cuentan con dicha informacion"
   ]
  },
  {
   "cell_type": "code",
   "execution_count": 14,
   "metadata": {
    "collapsed": true,
    "deletable": true,
    "editable": true
   },
   "outputs": [],
   "source": [
    "dataframe_calc_value(sell_properati_filter,'price_usd_per_m2','price_aprox_usd','surface_total_in_m2')"
   ]
  },
  {
   "cell_type": "markdown",
   "metadata": {
    "deletable": true,
    "editable": true
   },
   "source": [
    "### Se agrega el precio por metro cuadrado en la moneda actual en cada unos de las pripiedades"
   ]
  },
  {
   "cell_type": "code",
   "execution_count": 15,
   "metadata": {
    "collapsed": false,
    "deletable": true,
    "editable": true
   },
   "outputs": [],
   "source": [
    "dataframe_calc_value(sell_properati_filter,'price_per_m2','price','surface_total_in_m2')"
   ]
  },
  {
   "cell_type": "code",
   "execution_count": 16,
   "metadata": {
    "collapsed": false,
    "deletable": true,
    "editable": true
   },
   "outputs": [],
   "source": [
    "sell_properati_filter = sell_properati_filter[~((sell_properati_filter['surface_total_in_m2'] == 0 ) | \\\n",
    "                     (sell_properati_filter['price'] == 0 ))]"
   ]
  },
  {
   "cell_type": "code",
   "execution_count": 17,
   "metadata": {
    "collapsed": false,
    "deletable": true,
    "editable": true
   },
   "outputs": [
    {
     "data": {
      "text/plain": [
       "surface_total_in_m2    7402.093163\n",
       "price_usd_per_m2       2268.710530\n",
       "price_per_m2           3892.322905\n",
       "dtype: float64"
      ]
     },
     "execution_count": 17,
     "metadata": {},
     "output_type": "execute_result"
    }
   ],
   "source": [
    "sell_properati_filter[['surface_total_in_m2','price_usd_per_m2','price_per_m2']].mean()"
   ]
  },
  {
   "cell_type": "code",
   "execution_count": 18,
   "metadata": {
    "collapsed": false,
    "deletable": true,
    "editable": true
   },
   "outputs": [
    {
     "data": {
      "text/plain": [
       "(278094, 5)"
      ]
     },
     "execution_count": 18,
     "metadata": {},
     "output_type": "execute_result"
    }
   ],
   "source": [
    "sell_properati_filter[(pd.notnull(sell_properati_filter['surface_total_in_m2']))]\\\n",
    "            [['surface_total_in_m2','price_usd_per_m2','price_per_m2','price_aprox_usd','price']].shape"
   ]
  },
  {
   "cell_type": "code",
   "execution_count": null,
   "metadata": {
    "collapsed": true,
    "deletable": true,
    "editable": true
   },
   "outputs": [],
   "source": []
  },
  {
   "cell_type": "markdown",
   "metadata": {
    "deletable": true,
    "editable": true
   },
   "source": [
    "Filtraremos los datos que tengan una superficie total en metros cuadrados entre 0 y 1000"
   ]
  },
  {
   "cell_type": "code",
   "execution_count": null,
   "metadata": {
    "collapsed": true,
    "deletable": true,
    "editable": true
   },
   "outputs": [],
   "source": []
  },
  {
   "cell_type": "code",
   "execution_count": 19,
   "metadata": {
    "collapsed": false,
    "deletable": true,
    "editable": true
   },
   "outputs": [],
   "source": [
    "filter_properati = sell_properati_filter[(sell_properati_filter['price_aprox_usd'] < 600000) &\\\n",
    "                                         (sell_properati_filter['price_usd_per_m2'] < 5000) & \\\n",
    "                                         (sell_properati_filter['surface_total_in_m2'] < 1000)]"
   ]
  },
  {
   "cell_type": "code",
   "execution_count": 20,
   "metadata": {
    "collapsed": false,
    "deletable": true,
    "editable": true
   },
   "outputs": [
    {
     "data": {
      "text/plain": [
       "62.02927539329903"
      ]
     },
     "execution_count": 20,
     "metadata": {},
     "output_type": "execute_result"
    }
   ],
   "source": [
    "float(filter_properati.shape[0]) / float(sell_properati.shape[0]) * 100"
   ]
  },
  {
   "cell_type": "code",
   "execution_count": 21,
   "metadata": {
    "collapsed": false,
    "deletable": true,
    "editable": true
   },
   "outputs": [
    {
     "data": {
      "text/plain": [
       "Index([u'created_on', u'currency', u'expenses', u'floor', u'geonames_id',\n",
       "       u'lat', u'lat-lon', u'lon', u'place_name', u'place_with_parent_names',\n",
       "       u'price', u'price_aprox_local_currency', u'price_aprox_usd',\n",
       "       u'price_per_m2', u'price_usd_per_m2', u'property_type', u'rooms',\n",
       "       u'state_name', u'surface_covered_in_m2', u'surface_total_in_m2',\n",
       "       u'zone'],\n",
       "      dtype='object')"
      ]
     },
     "execution_count": 21,
     "metadata": {},
     "output_type": "execute_result"
    }
   ],
   "source": [
    "filter_properati.columns"
   ]
  },
  {
   "cell_type": "code",
   "execution_count": 22,
   "metadata": {
    "collapsed": false,
    "deletable": true,
    "editable": true,
    "scrolled": true
   },
   "outputs": [
    {
     "data": {
      "text/html": [
       "<div>\n",
       "<style>\n",
       "    .dataframe thead tr:only-child th {\n",
       "        text-align: right;\n",
       "    }\n",
       "\n",
       "    .dataframe thead th {\n",
       "        text-align: left;\n",
       "    }\n",
       "\n",
       "    .dataframe tbody tr th {\n",
       "        vertical-align: top;\n",
       "    }\n",
       "</style>\n",
       "<table border=\"1\" class=\"dataframe\">\n",
       "  <thead>\n",
       "    <tr style=\"text-align: right;\">\n",
       "      <th></th>\n",
       "      <th>states</th>\n",
       "    </tr>\n",
       "  </thead>\n",
       "  <tbody>\n",
       "    <tr>\n",
       "      <th>0</th>\n",
       "      <td>Bs.As. G.B.A. Zona Sur</td>\n",
       "    </tr>\n",
       "    <tr>\n",
       "      <th>1</th>\n",
       "      <td>Capital Federal</td>\n",
       "    </tr>\n",
       "    <tr>\n",
       "      <th>2</th>\n",
       "      <td>Bs.As. G.B.A. Zona Oeste</td>\n",
       "    </tr>\n",
       "    <tr>\n",
       "      <th>3</th>\n",
       "      <td>Bs.As. G.B.A. Zona Norte</td>\n",
       "    </tr>\n",
       "  </tbody>\n",
       "</table>\n",
       "</div>"
      ],
      "text/plain": [
       "                     states\n",
       "0    Bs.As. G.B.A. Zona Sur\n",
       "1           Capital Federal\n",
       "2  Bs.As. G.B.A. Zona Oeste\n",
       "3  Bs.As. G.B.A. Zona Norte"
      ]
     },
     "execution_count": 22,
     "metadata": {},
     "output_type": "execute_result"
    }
   ],
   "source": [
    "pd.DataFrame(data=sell_properati.state_name.unique(),columns=['states'])"
   ]
  },
  {
   "cell_type": "code",
   "execution_count": 23,
   "metadata": {
    "collapsed": false,
    "deletable": true,
    "editable": true
   },
   "outputs": [],
   "source": [
    "df = pd.DataFrame(data=sell_properati.place_name.unique(),columns=['place_name']).reset_index()\n"
   ]
  },
  {
   "cell_type": "code",
   "execution_count": 24,
   "metadata": {
    "collapsed": false,
    "deletable": true,
    "editable": true
   },
   "outputs": [],
   "source": [
    "df.rename(columns={'index':'id_place_name'},inplace=True)"
   ]
  },
  {
   "cell_type": "code",
   "execution_count": 25,
   "metadata": {
    "collapsed": false,
    "deletable": true,
    "editable": true,
    "scrolled": false
   },
   "outputs": [],
   "source": [
    "filter_properati = filter_properati.merge(how='left',left_on='place_name',right_on='place_name',right=df)"
   ]
  },
  {
   "cell_type": "code",
   "execution_count": 26,
   "metadata": {
    "collapsed": true,
    "deletable": true,
    "editable": true
   },
   "outputs": [],
   "source": [
    "df = pd.DataFrame(data=sell_properati.state_name.unique(),columns=['states']).reset_index()\n",
    "df.rename(columns={'index':'id_states'},inplace=True)"
   ]
  },
  {
   "cell_type": "code",
   "execution_count": 27,
   "metadata": {
    "collapsed": false,
    "deletable": true,
    "editable": true
   },
   "outputs": [],
   "source": [
    "filter_properati = filter_properati.merge(how='left',left_on='state_name',right_on='states',right=df)"
   ]
  },
  {
   "cell_type": "code",
   "execution_count": 28,
   "metadata": {
    "collapsed": true,
    "deletable": true,
    "editable": true
   },
   "outputs": [],
   "source": [
    "df = pd.DataFrame(data=sell_properati.property_type.unique(),columns=['property_type']).reset_index()\n",
    "df.rename(columns={'index':'id_property_type'},inplace=True)"
   ]
  },
  {
   "cell_type": "code",
   "execution_count": 29,
   "metadata": {
    "collapsed": false,
    "deletable": true,
    "editable": true
   },
   "outputs": [],
   "source": [
    "filter_properati = filter_properati.merge(how='left',left_on='property_type',right_on='property_type',right=df)"
   ]
  },
  {
   "cell_type": "code",
   "execution_count": 30,
   "metadata": {
    "collapsed": false,
    "deletable": true,
    "editable": true
   },
   "outputs": [
    {
     "name": "stdout",
     "output_type": "stream",
     "text": [
      "<class 'pandas.core.frame.DataFrame'>\n",
      "Int64Index: 243749 entries, 0 to 243748\n",
      "Data columns (total 25 columns):\n",
      "created_on                    243749 non-null object\n",
      "currency                      243749 non-null object\n",
      "expenses                      19623 non-null object\n",
      "floor                         47217 non-null float64\n",
      "geonames_id                   199847 non-null float64\n",
      "lat                           192128 non-null float64\n",
      "lat-lon                       192128 non-null object\n",
      "lon                           192123 non-null float64\n",
      "place_name                    243749 non-null object\n",
      "place_with_parent_names       243749 non-null object\n",
      "price                         243749 non-null float64\n",
      "price_aprox_local_currency    243749 non-null float64\n",
      "price_aprox_usd               243749 non-null float64\n",
      "price_per_m2                  243749 non-null float64\n",
      "price_usd_per_m2              243749 non-null float64\n",
      "property_type                 243749 non-null object\n",
      "rooms                         160435 non-null float64\n",
      "state_name                    243749 non-null object\n",
      "surface_covered_in_m2         113180 non-null float64\n",
      "surface_total_in_m2           243749 non-null float64\n",
      "zone                          243749 non-null object\n",
      "id_place_name                 243749 non-null int64\n",
      "id_states                     243749 non-null int64\n",
      "states                        243749 non-null object\n",
      "id_property_type              243749 non-null int64\n",
      "dtypes: float64(12), int64(3), object(10)\n",
      "memory usage: 48.4+ MB\n"
     ]
    }
   ],
   "source": [
    "filter_properati.info()"
   ]
  },
  {
   "cell_type": "code",
   "execution_count": 31,
   "metadata": {
    "collapsed": false,
    "deletable": true,
    "editable": true
   },
   "outputs": [
    {
     "data": {
      "text/plain": [
       "Index([u'created_on', u'currency', u'expenses', u'floor', u'geonames_id',\n",
       "       u'lat', u'lat-lon', u'lon', u'place_name', u'place_with_parent_names',\n",
       "       u'price', u'price_aprox_local_currency', u'price_aprox_usd',\n",
       "       u'price_per_m2', u'price_usd_per_m2', u'property_type', u'rooms',\n",
       "       u'state_name', u'surface_covered_in_m2', u'surface_total_in_m2',\n",
       "       u'zone', u'id_place_name', u'id_states', u'states',\n",
       "       u'id_property_type'],\n",
       "      dtype='object')"
      ]
     },
     "execution_count": 31,
     "metadata": {},
     "output_type": "execute_result"
    }
   ],
   "source": [
    "filter_properati.columns"
   ]
  },
  {
   "cell_type": "code",
   "execution_count": null,
   "metadata": {
    "collapsed": true,
    "deletable": true,
    "editable": true
   },
   "outputs": [],
   "source": []
  },
  {
   "cell_type": "code",
   "execution_count": 32,
   "metadata": {
    "collapsed": false,
    "deletable": true,
    "editable": true
   },
   "outputs": [],
   "source": [
    "data = filter_properati.drop(axis=1,labels=['created_on','currency','lat','lat-lon','lon','place_name','place_with_parent_names','price'\\\n",
    "                                            ,'price_aprox_local_currency','price_per_m2','price_usd_per_m2','property_type','state_name'\\\n",
    "                                            ,'surface_covered_in_m2','zone','states'])"
   ]
  },
  {
   "cell_type": "code",
   "execution_count": 33,
   "metadata": {
    "collapsed": true,
    "deletable": true,
    "editable": true
   },
   "outputs": [],
   "source": [
    "import re\n",
    "\n",
    "def devolverInt(x):\n",
    "    return float(re.search(r'\\d+', x).group())"
   ]
  },
  {
   "cell_type": "code",
   "execution_count": 34,
   "metadata": {
    "collapsed": false,
    "deletable": true,
    "editable": true
   },
   "outputs": [],
   "source": [
    "data['geonames_id'] = data.geonames_id.apply(lambda x : 0 if pd.isnull(x) else x )"
   ]
  },
  {
   "cell_type": "code",
   "execution_count": 35,
   "metadata": {
    "collapsed": false,
    "deletable": true,
    "editable": true
   },
   "outputs": [],
   "source": [
    "data['expenses'] = data.expenses.apply(lambda x : devolverInt(x) if pd.notnull(x) else 0 )"
   ]
  },
  {
   "cell_type": "code",
   "execution_count": 36,
   "metadata": {
    "collapsed": false,
    "deletable": true,
    "editable": true
   },
   "outputs": [],
   "source": [
    "data['floor'] = data.floor.apply(lambda x : float(x) if pd.notnull(x) else 0 )"
   ]
  },
  {
   "cell_type": "code",
   "execution_count": 37,
   "metadata": {
    "collapsed": false,
    "deletable": true,
    "editable": true
   },
   "outputs": [],
   "source": [
    "data['price_aprox_usd'] = data.price_aprox_usd.apply(lambda x : float(x) if pd.notnull(x) else 0 )"
   ]
  },
  {
   "cell_type": "code",
   "execution_count": 38,
   "metadata": {
    "collapsed": false,
    "deletable": true,
    "editable": true
   },
   "outputs": [],
   "source": [
    "data['rooms'] = data.rooms.apply(lambda x : float(x) if pd.notnull(x) else 0 )"
   ]
  },
  {
   "cell_type": "code",
   "execution_count": 39,
   "metadata": {
    "collapsed": false,
    "deletable": true,
    "editable": true
   },
   "outputs": [],
   "source": [
    "data['surface_total_in_m2'] = data.surface_total_in_m2.apply(lambda x : float(x) if pd.notnull(x) else 0 )"
   ]
  },
  {
   "cell_type": "code",
   "execution_count": 40,
   "metadata": {
    "collapsed": false,
    "deletable": true,
    "editable": true
   },
   "outputs": [
    {
     "name": "stdout",
     "output_type": "stream",
     "text": [
      "<class 'pandas.core.frame.DataFrame'>\n",
      "Int64Index: 243749 entries, 0 to 243748\n",
      "Data columns (total 9 columns):\n",
      "expenses               243749 non-null float64\n",
      "floor                  243749 non-null float64\n",
      "geonames_id            243749 non-null float64\n",
      "price_aprox_usd        243749 non-null float64\n",
      "rooms                  243749 non-null float64\n",
      "surface_total_in_m2    243749 non-null float64\n",
      "id_place_name          243749 non-null int64\n",
      "id_states              243749 non-null int64\n",
      "id_property_type       243749 non-null int64\n",
      "dtypes: float64(6), int64(3)\n",
      "memory usage: 18.6 MB\n"
     ]
    }
   ],
   "source": [
    "data.info()"
   ]
  },
  {
   "cell_type": "code",
   "execution_count": 41,
   "metadata": {
    "collapsed": false,
    "deletable": true,
    "editable": true
   },
   "outputs": [
    {
     "data": {
      "text/html": [
       "<div>\n",
       "<style>\n",
       "    .dataframe thead tr:only-child th {\n",
       "        text-align: right;\n",
       "    }\n",
       "\n",
       "    .dataframe thead th {\n",
       "        text-align: left;\n",
       "    }\n",
       "\n",
       "    .dataframe tbody tr th {\n",
       "        vertical-align: top;\n",
       "    }\n",
       "</style>\n",
       "<table border=\"1\" class=\"dataframe\">\n",
       "  <thead>\n",
       "    <tr style=\"text-align: right;\">\n",
       "      <th></th>\n",
       "      <th>expenses</th>\n",
       "      <th>floor</th>\n",
       "      <th>geonames_id</th>\n",
       "      <th>price_aprox_usd</th>\n",
       "      <th>rooms</th>\n",
       "      <th>surface_total_in_m2</th>\n",
       "      <th>id_place_name</th>\n",
       "      <th>id_states</th>\n",
       "      <th>id_property_type</th>\n",
       "    </tr>\n",
       "  </thead>\n",
       "  <tbody>\n",
       "    <tr>\n",
       "      <th>243744</th>\n",
       "      <td>0.0</td>\n",
       "      <td>0.0</td>\n",
       "      <td>3427753.0</td>\n",
       "      <td>130000.0</td>\n",
       "      <td>1.0</td>\n",
       "      <td>49.0</td>\n",
       "      <td>15</td>\n",
       "      <td>3</td>\n",
       "      <td>1</td>\n",
       "    </tr>\n",
       "    <tr>\n",
       "      <th>243745</th>\n",
       "      <td>0.0</td>\n",
       "      <td>0.0</td>\n",
       "      <td>3427753.0</td>\n",
       "      <td>160000.0</td>\n",
       "      <td>4.0</td>\n",
       "      <td>203.0</td>\n",
       "      <td>15</td>\n",
       "      <td>3</td>\n",
       "      <td>0</td>\n",
       "    </tr>\n",
       "    <tr>\n",
       "      <th>243746</th>\n",
       "      <td>0.0</td>\n",
       "      <td>0.0</td>\n",
       "      <td>3430550.0</td>\n",
       "      <td>65000.0</td>\n",
       "      <td>2.0</td>\n",
       "      <td>120.0</td>\n",
       "      <td>61</td>\n",
       "      <td>2</td>\n",
       "      <td>0</td>\n",
       "    </tr>\n",
       "    <tr>\n",
       "      <th>243747</th>\n",
       "      <td>8600.0</td>\n",
       "      <td>0.0</td>\n",
       "      <td>3436109.0</td>\n",
       "      <td>550000.0</td>\n",
       "      <td>3.0</td>\n",
       "      <td>324.0</td>\n",
       "      <td>31</td>\n",
       "      <td>1</td>\n",
       "      <td>1</td>\n",
       "    </tr>\n",
       "    <tr>\n",
       "      <th>243748</th>\n",
       "      <td>0.0</td>\n",
       "      <td>1.0</td>\n",
       "      <td>3429979.0</td>\n",
       "      <td>450000.0</td>\n",
       "      <td>3.0</td>\n",
       "      <td>268.0</td>\n",
       "      <td>22</td>\n",
       "      <td>3</td>\n",
       "      <td>0</td>\n",
       "    </tr>\n",
       "  </tbody>\n",
       "</table>\n",
       "</div>"
      ],
      "text/plain": [
       "        expenses  floor  geonames_id  price_aprox_usd  rooms  \\\n",
       "243744       0.0    0.0    3427753.0         130000.0    1.0   \n",
       "243745       0.0    0.0    3427753.0         160000.0    4.0   \n",
       "243746       0.0    0.0    3430550.0          65000.0    2.0   \n",
       "243747    8600.0    0.0    3436109.0         550000.0    3.0   \n",
       "243748       0.0    1.0    3429979.0         450000.0    3.0   \n",
       "\n",
       "        surface_total_in_m2  id_place_name  id_states  id_property_type  \n",
       "243744                 49.0             15          3                 1  \n",
       "243745                203.0             15          3                 0  \n",
       "243746                120.0             61          2                 0  \n",
       "243747                324.0             31          1                 1  \n",
       "243748                268.0             22          3                 0  "
      ]
     },
     "execution_count": 41,
     "metadata": {},
     "output_type": "execute_result"
    }
   ],
   "source": [
    "data.tail()"
   ]
  },
  {
   "cell_type": "markdown",
   "metadata": {
    "deletable": true,
    "editable": true
   },
   "source": [
    "En la etapa de preprocesamiento de datos se opto por utilizar la mayor cantida de columnas posibles, con modificaciones, identificando cada place_name y state_name y tipo de propiedad con un numero para poder utilizarlo. Ademas se completo con 0 los datos que datos nulos. "
   ]
  },
  {
   "cell_type": "code",
   "execution_count": null,
   "metadata": {
    "collapsed": true,
    "deletable": true,
    "editable": true
   },
   "outputs": [],
   "source": []
  },
  {
   "cell_type": "markdown",
   "metadata": {
    "deletable": true,
    "editable": true
   },
   "source": [
    "# Normalizacion de datos"
   ]
  },
  {
   "cell_type": "code",
   "execution_count": 42,
   "metadata": {
    "collapsed": true,
    "deletable": true,
    "editable": true
   },
   "outputs": [],
   "source": [
    "train = data.head(int(float(data.shape[0]) * 0.8)).copy()"
   ]
  },
  {
   "cell_type": "code",
   "execution_count": 43,
   "metadata": {
    "collapsed": true,
    "deletable": true,
    "editable": true
   },
   "outputs": [],
   "source": [
    "train_target = train[['price_aprox_usd']].copy()"
   ]
  },
  {
   "cell_type": "code",
   "execution_count": 44,
   "metadata": {
    "collapsed": true,
    "deletable": true,
    "editable": true
   },
   "outputs": [],
   "source": [
    "train.drop(inplace=True,labels=['price_aprox_usd'],axis=1)"
   ]
  },
  {
   "cell_type": "code",
   "execution_count": 45,
   "metadata": {
    "collapsed": true,
    "deletable": true,
    "editable": true
   },
   "outputs": [],
   "source": [
    "test = data.tail(int(float(data.shape[0]) * 0.2)).copy()"
   ]
  },
  {
   "cell_type": "code",
   "execution_count": 46,
   "metadata": {
    "collapsed": true,
    "deletable": true,
    "editable": true
   },
   "outputs": [],
   "source": [
    "test_target = test[['price_aprox_usd']].copy()"
   ]
  },
  {
   "cell_type": "code",
   "execution_count": 47,
   "metadata": {
    "collapsed": true,
    "deletable": true,
    "editable": true
   },
   "outputs": [],
   "source": [
    "test.drop(inplace=True,labels=['price_aprox_usd'],axis=1)"
   ]
  },
  {
   "cell_type": "code",
   "execution_count": 48,
   "metadata": {
    "collapsed": false,
    "deletable": true,
    "editable": true
   },
   "outputs": [],
   "source": [
    "for col in train.columns :\n",
    "    col_mean = train[col].mean()\n",
    "    col_std = train[col].std()\n",
    "    train[col] = (train[col] - col_mean) / col_std"
   ]
  },
  {
   "cell_type": "code",
   "execution_count": 49,
   "metadata": {
    "collapsed": true,
    "deletable": true,
    "editable": true
   },
   "outputs": [],
   "source": [
    "for col in test.columns :\n",
    "    col_mean = test[col].mean()\n",
    "    col_std = test[col].std()\n",
    "    test[col] = (test[col] - col_mean) / col_std"
   ]
  },
  {
   "cell_type": "markdown",
   "metadata": {
    "deletable": true,
    "editable": true
   },
   "source": [
    "# Reduccion de Dimensiones"
   ]
  },
  {
   "cell_type": "code",
   "execution_count": 50,
   "metadata": {
    "collapsed": true,
    "deletable": true,
    "editable": true
   },
   "outputs": [],
   "source": [
    "from sklearn import decomposition"
   ]
  },
  {
   "cell_type": "code",
   "execution_count": 51,
   "metadata": {
    "collapsed": true,
    "deletable": true,
    "editable": true
   },
   "outputs": [],
   "source": [
    "svd = decomposition.TruncatedSVD(n_components=train.shape[1]-1)"
   ]
  },
  {
   "cell_type": "code",
   "execution_count": 52,
   "metadata": {
    "collapsed": false,
    "deletable": true,
    "editable": true
   },
   "outputs": [],
   "source": [
    "train_transform = svd.fit_transform(train)"
   ]
  },
  {
   "cell_type": "code",
   "execution_count": 53,
   "metadata": {
    "collapsed": false,
    "deletable": true,
    "editable": true
   },
   "outputs": [
    {
     "data": {
      "text/plain": [
       "<matplotlib.axes._subplots.AxesSubplot at 0x7fa0fafaa5d0>"
      ]
     },
     "execution_count": 53,
     "metadata": {},
     "output_type": "execute_result"
    },
    {
     "data": {
      "image/png": "[encoded data removed]",
      "text/plain": [
       "<matplotlib.figure.Figure at 0x7fa0fafaaed0>"
      ]
     },
     "metadata": {},
     "output_type": "display_data"
    }
   ],
   "source": [
    "pd.DataFrame(svd.explained_variance_).plot()"
   ]
  },
  {
   "cell_type": "markdown",
   "metadata": {
    "deletable": true,
    "editable": true
   },
   "source": [
    "Con nuestro grafico se puede estimar que con 2 columnas unicamente, se puede representar correctamente nuestro set de datos."
   ]
  },
  {
   "cell_type": "code",
   "execution_count": 54,
   "metadata": {
    "collapsed": false,
    "deletable": true,
    "editable": true
   },
   "outputs": [],
   "source": [
    "test_transform = svd.transform(test)"
   ]
  },
  {
   "cell_type": "code",
   "execution_count": 55,
   "metadata": {
    "collapsed": false,
    "deletable": true,
    "editable": true
   },
   "outputs": [],
   "source": [
    "test = pd.DataFrame(test_transform)"
   ]
  },
  {
   "cell_type": "code",
   "execution_count": 56,
   "metadata": {
    "collapsed": false,
    "deletable": true,
    "editable": true
   },
   "outputs": [],
   "source": [
    "train = pd.DataFrame(train_transform)"
   ]
  },
  {
   "cell_type": "markdown",
   "metadata": {
    "collapsed": true,
    "deletable": true,
    "editable": true
   },
   "source": [
    "# Machine Learning\n"
   ]
  },
  {
   "cell_type": "markdown",
   "metadata": {
    "deletable": true,
    "editable": true
   },
   "source": [
    "En esta etapa de machine learning se va a usar KNN con distancia euclidea, y vamos a calcular el MSE de nuestro set de entrenamiento. La idea es utilizando grid search, encontrar los mejores valores de K para nuestro set de datos. La distancia usada es la euclidea, ya que es la que mejor resultados obtiene."
   ]
  },
  {
   "cell_type": "markdown",
   "metadata": {
    "deletable": true,
    "editable": true
   },
   "source": [
    "Nuestro set de entrenamiento se encuentra normalizado y ademas se le aplico SVD para descomponer en las columnas mas significativas. En esta opcion no se opto por reducir la cantidad de dimensiones ya que no aporta ninguna mejora. "
   ]
  },
  {
   "cell_type": "code",
   "execution_count": 57,
   "metadata": {
    "collapsed": true,
    "deletable": true,
    "editable": true
   },
   "outputs": [],
   "source": [
    "from sklearn.svm import SVR"
   ]
  },
  {
   "cell_type": "code",
   "execution_count": 58,
   "metadata": {
    "collapsed": true,
    "deletable": true,
    "editable": true
   },
   "outputs": [],
   "source": [
    "msqDF = pd.DataFrame(columns={'c','mean_squear_error'})"
   ]
  },
  {
   "cell_type": "code",
   "execution_count": 59,
   "metadata": {
    "collapsed": false,
    "deletable": true,
    "editable": true,
    "scrolled": true
   },
   "outputs": [
    {
     "name": "stderr",
     "output_type": "stream",
     "text": [
      "/usr/local/lib/python2.7/dist-packages/sklearn/utils/validation.py:526: DataConversionWarning: A column-vector y was passed when a 1d array was expected. Please change the shape of y to (n_samples, ), for example using ravel().\n",
      "  y = column_or_1d(y, warn=True)\n"
     ]
    }
   ],
   "source": [
    "svr_rbf = SVR(kernel='rbf')\n",
    "svr_rbf.fit(train,train_target)\n",
    "test_prediction = svr_rbf.predict(test)\n",
    "msq_svr = mean_squared_error(test_prediction, test_target)lineal"
   ]
  },
  {
   "cell_type": "code",
   "execution_count": 61,
   "metadata": {
    "collapsed": false
   },
   "outputs": [
    {
     "data": {
      "text/plain": [
       "12255084103.903877"
      ]
     },
     "execution_count": 61,
     "metadata": {},
     "output_type": "execute_result"
    }
   ],
   "source": [
    "msq_svr"
   ]
  },
  {
   "cell_type": "code",
   "execution_count": 64,
   "metadata": {
    "collapsed": false
   },
   "outputs": [],
   "source": [
    "svr_lineal = SVR(kernel='linear',degree=8)\n",
    "svr_lineal.fit(train,train_target)\n",
    "test_prediction = svr_lineal.predict(test)\n",
    "msq_svr_lineal = mean_squared_error(test_prediction, test_target)"
   ]
  },
  {
   "cell_type": "code",
   "execution_count": 65,
   "metadata": {
    "collapsed": false
   },
   "outputs": [
    {
     "data": {
      "text/plain": [
       "9260865469.0541172"
      ]
     },
     "execution_count": 65,
     "metadata": {},
     "output_type": "execute_result"
    }
   ],
   "source": [
    "msq_svr_lineal"
   ]
  },
  {
   "cell_type": "code",
   "execution_count": null,
   "metadata": {
    "collapsed": true
   },
   "outputs": [],
   "source": [
    "svr_lineal = SVR(kernel='linear',degree=8)\n",
    "svr_lineal.fit(train,train_target)\n",
    "test_prediction = svr_lineal.predict(test)\n",
    "msq_svr_lineal = mean_squared_error(test_prediction, test_target)"
   ]
  },
  {
   "cell_type": "code",
   "execution_count": null,
   "metadata": {
    "collapsed": false
   },
   "outputs": [],
   "source": [
    "msq_svr_lineal"
   ]
  },
  {
   "cell_type": "code",
   "execution_count": null,
   "metadata": {
    "collapsed": true
   },
   "outputs": [],
   "source": []
  },
  {
   "cell_type": "code",
   "execution_count": null,
   "metadata": {
    "collapsed": true
   },
   "outputs": [],
   "source": []
  },
  {
   "cell_type": "code",
   "execution_count": 60,
   "metadata": {
    "collapsed": false,
    "deletable": true,
    "editable": true
   },
   "outputs": [
    {
     "data": {
      "text/html": [
       "<div>\n",
       "<style>\n",
       "    .dataframe thead tr:only-child th {\n",
       "        text-align: right;\n",
       "    }\n",
       "\n",
       "    .dataframe thead th {\n",
       "        text-align: left;\n",
       "    }\n",
       "\n",
       "    .dataframe tbody tr th {\n",
       "        vertical-align: top;\n",
       "    }\n",
       "</style>\n",
       "<table border=\"1\" class=\"dataframe\">\n",
       "  <thead>\n",
       "    <tr style=\"text-align: right;\">\n",
       "      <th></th>\n",
       "      <th>c</th>\n",
       "      <th>mean_squear_error</th>\n",
       "    </tr>\n",
       "  </thead>\n",
       "  <tbody>\n",
       "    <tr>\n",
       "      <th>count</th>\n",
       "      <td>0</td>\n",
       "      <td>0</td>\n",
       "    </tr>\n",
       "    <tr>\n",
       "      <th>unique</th>\n",
       "      <td>0</td>\n",
       "      <td>0</td>\n",
       "    </tr>\n",
       "  </tbody>\n",
       "</table>\n",
       "</div>"
      ],
      "text/plain": [
       "        c  mean_squear_error\n",
       "count   0                  0\n",
       "unique  0                  0"
      ]
     },
     "execution_count": 60,
     "metadata": {},
     "output_type": "execute_result"
    }
   ],
   "source": [
    "msqDF.describe()"
   ]
  },
  {
   "cell_type": "code",
   "execution_count": null,
   "metadata": {
    "collapsed": false,
    "deletable": true,
    "editable": true,
    "scrolled": true
   },
   "outputs": [],
   "source": [
    "msqDF"
   ]
  },
  {
   "cell_type": "code",
   "execution_count": null,
   "metadata": {
    "collapsed": false,
    "deletable": true,
    "editable": true
   },
   "outputs": [],
   "source": [
    "msqDF[msqDF['mean_squear_error'] == msqDF.mean_squear_error.min()]"
   ]
  },
  {
   "cell_type": "code",
   "execution_count": null,
   "metadata": {
    "collapsed": true,
    "deletable": true,
    "editable": true
   },
   "outputs": [],
   "source": [
    "msqDF.k_Neighbors = msqDF.k_Neighbors.astype(float)"
   ]
  },
  {
   "cell_type": "code",
   "execution_count": null,
   "metadata": {
    "collapsed": true,
    "deletable": true,
    "editable": true
   },
   "outputs": [],
   "source": [
    "msqDF.mean_squear_error = msqDF.mean_squear_error.astype(float)"
   ]
  },
  {
   "cell_type": "code",
   "execution_count": null,
   "metadata": {
    "collapsed": false,
    "deletable": true,
    "editable": true
   },
   "outputs": [],
   "source": [
    "msqDF.plot.scatter(x=['c','gamma'],y='mean_squear_error')"
   ]
  },
  {
   "cell_type": "markdown",
   "metadata": {
    "deletable": true,
    "editable": true
   },
   "source": [
    "msqDF[msqDF.p_minkowski == 2 ].sort_index(by='mean_squear_error',ascending=True).head(200)"
   ]
  },
  {
   "cell_type": "markdown",
   "metadata": {
    "deletable": true,
    "editable": true
   },
   "source": [
    "###  Se llega la conclusion de que con un nuestro set de datos los valores optimos de k oscilan entre los 250 y 400 aproximadamente. "
   ]
  },
  {
   "cell_type": "markdown",
   "metadata": {
    "collapsed": true,
    "deletable": true,
    "editable": true
   },
   "source": [
    "for k in xrange(1,1+2000) :\n",
    "    print k\n",
    "    for p in xrange(2,1+2):\n",
    "        knn = neighbors.KNeighborsRegressor(n_neighbors=k,n_jobs=-1,p=p)\n",
    "        knn.fit(train,train_target)\n",
    "        test_prediction = knn.predict(test)\n",
    "        msq_knn = mean_squared_error(test_prediction, test_target)\n",
    "        msqDF = msqDF.append( pd.DataFrame(data={'k-Neighbors' : [k],'p_minkowski' : [p] ,'mean_squear_error' :[msq_knn]}) )"
   ]
  },
  {
   "cell_type": "markdown",
   "metadata": {
    "deletable": true,
    "editable": true
   },
   "source": [
    "msqDF[msqDF.p_minkowski == 2 ].sort_index(by='mean_squear_error',ascending=True).head(20)"
   ]
  },
  {
   "cell_type": "markdown",
   "metadata": {
    "deletable": true,
    "editable": true
   },
   "source": [
    "knn = neighbors.KNeighborsRegressor(n_neighbors=2000,n_jobs=-1,p=2)\n",
    "knn.fit(train,train_target)\n",
    "test_prediction = knn.predict(test)\n",
    "msq_knn = mean_squared_error(test_prediction, test_target)\n",
    "msqDF = msqDF.append( pd.DataFrame(data={'k-Neighbors' : [2000],'p_minkowski' : [2] ,'mean_squear_error' :[msq_knn]}) )"
   ]
  },
  {
   "cell_type": "markdown",
   "metadata": {
    "deletable": true,
    "editable": true
   },
   "source": [
    "msqDF[msqDF.p_minkowski == 2 ].sort_index(by='mean_squear_error',ascending=True).head(20)"
   ]
  },
  {
   "cell_type": "markdown",
   "metadata": {
    "deletable": true,
    "editable": true
   },
   "source": [
    "msqDF.rename(columns={'k-Neighbors':'k_Neighbors'},inplace=True)"
   ]
  },
  {
   "cell_type": "markdown",
   "metadata": {
    "deletable": true,
    "editable": true
   },
   "source": [
    "msqDF.k_Neighbors = msqDF.k_Neighbors.astype(int)"
   ]
  },
  {
   "cell_type": "markdown",
   "metadata": {
    "deletable": true,
    "editable": true
   },
   "source": []
  },
  {
   "cell_type": "markdown",
   "metadata": {
    "deletable": true,
    "editable": true
   },
   "source": [
    "msqDF.plot.scatter(x='k_Neighbors',y='mean_squear_error')"
   ]
  },
  {
   "cell_type": "markdown",
   "metadata": {
    "deletable": true,
    "editable": true
   },
   "source": [
    "for k in xrange(200,201+1800) :\n",
    "    print k\n",
    "    for p in xrange(2,1+3):\n",
    "        knn = neighbors.KNeighborsRegressor(n_neighbors=k,n_jobs=-1,p=p)\n",
    "        knn.fit(train,train_target)\n",
    "        test_prediction = knn.predict(test)\n",
    "        msq_knn = mean_squared_error(test_prediction, test_target)\n",
    "        msqDF = msqDF.append( pd.DataFrame(data={'k_Neighbors' : [k],'p_minkowski' : [p] ,'mean_squear_error' :[msq_knn]}) )"
   ]
  },
  {
   "cell_type": "markdown",
   "metadata": {
    "deletable": true,
    "editable": true
   },
   "source": [
    "msqDF.plot.scatter(x='k_Neighbors',y='mean_squear_error')"
   ]
  },
  {
   "cell_type": "markdown",
   "metadata": {
    "deletable": true,
    "editable": true
   },
   "source": []
  }
 ],
 "metadata": {
  "kernelspec": {
   "display_name": "Python 2",
   "language": "python",
   "name": "python2"
  },
  "language_info": {
   "codemirror_mode": {
    "name": "ipython",
    "version": 2
   },
   "file_extension": ".py",
   "mimetype": "text/x-python",
   "name": "python",
   "nbconvert_exporter": "python",
   "pygments_lexer": "ipython2",
   "version": "2.7.12"
  }
 },
 "nbformat": 4,
 "nbformat_minor": 2
}
