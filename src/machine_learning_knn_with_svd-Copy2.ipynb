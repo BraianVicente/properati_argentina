{
 "cells": [
  {
   "cell_type": "code",
   "execution_count": 1,
   "metadata": {
    "collapsed": true,
    "deletable": true,
    "editable": true
   },
   "outputs": [],
   "source": [
    "import pandas as pd\n",
    "import numpy as np\n",
    "import matplotlib.pyplot as plt\n",
    "from sklearn.metrics import mean_squared_error\n",
    "\n",
    "%matplotlib inline\n",
    "\n",
    "plt.style.use('default') # Make the graphs a bit prettier\n",
    "\n",
    "plt.rcParams['figure.figsize'] = (12, 4)"
   ]
  },
  {
   "cell_type": "code",
   "execution_count": 2,
   "metadata": {
    "collapsed": false,
    "deletable": true,
    "editable": true
   },
   "outputs": [
    {
     "name": "stderr",
     "output_type": "stream",
     "text": [
      "/usr/local/lib/python2.7/dist-packages/statsmodels/compat/pandas.py:56: FutureWarning: The pandas.core.datetools module is deprecated and will be removed in a future version. Please use the pandas.tseries module instead.\n",
      "  from pandas.core import datetools\n"
     ]
    }
   ],
   "source": [
    "#pip install -U statsmodels\n",
    "import statsmodels.api as sm "
   ]
  },
  {
   "cell_type": "markdown",
   "metadata": {
    "deletable": true,
    "editable": true
   },
   "source": [
    "#  Preprocesamiento de Datos"
   ]
  },
  {
   "cell_type": "markdown",
   "metadata": {
    "deletable": true,
    "editable": true
   },
   "source": [
    "El analisis exploratorio que se presenta a continuacion tiene como fin determinar que feathers influyen en mayor medida a la hora de determinar el precio de un inmueble en Capital Federal y Gran Buenos Aires, asi como tambien encontrar datos curiosos en el data set."
   ]
  },
  {
   "cell_type": "markdown",
   "metadata": {
    "deletable": true,
    "editable": true
   },
   "source": [
    "Los datos fueron provistos por [Properati](http://www.properati.com.ar) y reorganizo en un solo dataset de la siguiente manera : [GitHub | properati_argentina](https://github.com/BraianVicente/properati_argentina/blob/master/src/TP1%20-%20Properati%20-%20Parseo%20de%20datos%20por%20fecha.ipynb)"
   ]
  },
  {
   "cell_type": "code",
   "execution_count": 3,
   "metadata": {
    "collapsed": false,
    "deletable": true,
    "editable": true
   },
   "outputs": [],
   "source": [
    "sell_properati = pd.read_csv('../data/properati_full_month.csv',low_memory=False)"
   ]
  },
  {
   "cell_type": "markdown",
   "metadata": {
    "collapsed": true,
    "deletable": true,
    "editable": true
   },
   "source": [
    "Transformando el formato del feature created_on para manejarlo como fecha"
   ]
  },
  {
   "cell_type": "code",
   "execution_count": 4,
   "metadata": {
    "collapsed": false,
    "deletable": true,
    "editable": true
   },
   "outputs": [],
   "source": [
    "sell_properati['created_on'] = sell_properati['created_on'].apply(lambda x : pd.to_datetime(x))"
   ]
  },
  {
   "cell_type": "code",
   "execution_count": 5,
   "metadata": {
    "collapsed": true,
    "deletable": true,
    "editable": true
   },
   "outputs": [],
   "source": [
    "sell_properati['year'] = sell_properati['created_on'].apply(lambda x : x.year)"
   ]
  },
  {
   "cell_type": "code",
   "execution_count": 6,
   "metadata": {
    "collapsed": true,
    "deletable": true,
    "editable": true
   },
   "outputs": [],
   "source": [
    "def parse_year_month(date):\n",
    "    if len(str(date.month)) == 1 :\n",
    "        return str(date.year) + '-0' + str(date.month)\n",
    "    return str(date.year) + '-' + str(date.month) "
   ]
  },
  {
   "cell_type": "code",
   "execution_count": 7,
   "metadata": {
    "collapsed": false,
    "deletable": true,
    "editable": true
   },
   "outputs": [],
   "source": [
    "sell_properati['year_month'] = sell_properati.created_on.apply(parse_year_month)"
   ]
  },
  {
   "cell_type": "markdown",
   "metadata": {
    "deletable": true,
    "editable": true
   },
   "source": [
    "Completamos la columna 'state_name'"
   ]
  },
  {
   "cell_type": "code",
   "execution_count": 8,
   "metadata": {
    "collapsed": true,
    "deletable": true,
    "editable": true
   },
   "outputs": [],
   "source": [
    "sell_properati['state_name'] = sell_properati.place_with_parent_names.apply(lambda x : x.split('|')[2])"
   ]
  },
  {
   "cell_type": "markdown",
   "metadata": {
    "deletable": true,
    "editable": true
   },
   "source": [
    "Filtramos unicamente los que nos interesan que corresponde a capital federal y alrededores"
   ]
  },
  {
   "cell_type": "code",
   "execution_count": 9,
   "metadata": {
    "collapsed": false,
    "deletable": true,
    "editable": true
   },
   "outputs": [],
   "source": [
    "sell_properati = sell_properati[\n",
    "    (sell_properati['state_name'] == 'Bs.As. G.B.A. Zona Norte' ) |\n",
    "    (sell_properati['state_name'] == 'Bs.As. G.B.A. Zona Sur' ) |\n",
    "    (sell_properati['state_name'] == 'Bs.As. G.B.A. Zona Oeste' ) |\n",
    "    (sell_properati['state_name'] == 'Capital Federal' ) \n",
    "    ]"
   ]
  },
  {
   "cell_type": "code",
   "execution_count": 10,
   "metadata": {
    "collapsed": true,
    "deletable": true,
    "editable": true
   },
   "outputs": [],
   "source": [
    "sell_properati['zone'] = sell_properati.place_with_parent_names.apply(lambda x : x.split('|')[3])"
   ]
  },
  {
   "cell_type": "markdown",
   "metadata": {
    "deletable": true,
    "editable": true
   },
   "source": [
    "Filtramos por los datos que son reelevantes para nuestro analisis, obteniendo unicamente las propiedades de GBA y capital federal"
   ]
  },
  {
   "cell_type": "code",
   "execution_count": 11,
   "metadata": {
    "collapsed": false,
    "deletable": true,
    "editable": true
   },
   "outputs": [],
   "source": [
    "sell_properati.drop(inplace=True,\\\n",
    "    labels=['country_name','description','extra','id', u'image_thumbnail','operation'\\\n",
    "            ,'place_with_parent_names_l1','place_with_parent_names_l2', 'properati_url','surface_in_m2','title',\\\n",
    "           ],axis=1)"
   ]
  },
  {
   "cell_type": "markdown",
   "metadata": {
    "deletable": true,
    "editable": true
   },
   "source": [
    "Podemos seguir trabajando con los datos que no cuentan con la informacion de Zona utilizando la ubicacion para identificarlos segun el barrio al que pertenecen pero en esta ocacion decidimos dejarlos de lado pues no son una cantidad significativa de datos"
   ]
  },
  {
   "cell_type": "markdown",
   "metadata": {
    "deletable": true,
    "editable": true
   },
   "source": [
    "#### Las propiedades del tigre son las unicas que no contienen informacion en 'place_name'"
   ]
  },
  {
   "cell_type": "code",
   "execution_count": 12,
   "metadata": {
    "collapsed": false,
    "deletable": true,
    "editable": true
   },
   "outputs": [],
   "source": [
    "sell_properati.loc[pd.isnull(sell_properati['place_name']),'place_name'] = sell_properati.place_name.apply(lambda x : x if pd.notnull(x) else 'Tigre' )"
   ]
  },
  {
   "cell_type": "code",
   "execution_count": 13,
   "metadata": {
    "collapsed": false,
    "deletable": true,
    "editable": true
   },
   "outputs": [],
   "source": [
    "sell_properati = sell_properati[sell_properati['zone'] != '']"
   ]
  },
  {
   "cell_type": "code",
   "execution_count": 14,
   "metadata": {
    "collapsed": true,
    "deletable": true,
    "editable": true
   },
   "outputs": [],
   "source": [
    "#Calcula el precio la incognita (incognita = divisor/dividendo) para todo divisor mayor a cero y todo dividendo mayor a cero.\n",
    "\n",
    "def dataframe_calc_value(df,incognita,divisor,dividendo):\n",
    "    df.loc[ (pd.isnull(df[incognita])) |  (df[incognita] == 0 ) & (pd.notnull(df[divisor]) ) & (df[divisor] > 0) & \\\n",
    "            (pd.notnull(df[dividendo]) & (df[dividendo] > 0)) ,incognita] = \\\n",
    "    df.loc[ (pd.isnull(df[incognita])) |  (df[incognita] == 0 ) & (pd.notnull(df[divisor]) ) & (df[divisor] > 0) & \\\n",
    "            (pd.notnull(df[dividendo]) & (df[dividendo] > 0))][divisor] / \\\n",
    "    df.loc[ (pd.isnull(df[incognita])) |  (df[incognita] == 0 ) & (pd.notnull(df[divisor]) ) & (df[divisor] > 0) & \\\n",
    "            (pd.notnull(df[dividendo]) & (df[dividendo] > 0))][dividendo]"
   ]
  },
  {
   "cell_type": "code",
   "execution_count": null,
   "metadata": {
    "collapsed": true,
    "deletable": true,
    "editable": true
   },
   "outputs": [],
   "source": []
  },
  {
   "cell_type": "markdown",
   "metadata": {
    "deletable": true,
    "editable": true
   },
   "source": [
    "# Continuaremos trabajando con el set de datos completo para disponer de toda la informacion."
   ]
  },
  {
   "cell_type": "markdown",
   "metadata": {
    "deletable": true,
    "editable": true
   },
   "source": [
    "### Se agrega la superficie total de los inmbuebles que disponen del precio por metro cuadrado en dolares\n"
   ]
  },
  {
   "cell_type": "code",
   "execution_count": 15,
   "metadata": {
    "collapsed": false,
    "deletable": true,
    "editable": true
   },
   "outputs": [],
   "source": [
    "sell_properati_filter = sell_properati"
   ]
  },
  {
   "cell_type": "code",
   "execution_count": null,
   "metadata": {
    "collapsed": true,
    "deletable": true,
    "editable": true
   },
   "outputs": [],
   "source": []
  },
  {
   "cell_type": "code",
   "execution_count": 16,
   "metadata": {
    "collapsed": true,
    "deletable": true,
    "editable": true
   },
   "outputs": [],
   "source": [
    "dataframe_calc_value(sell_properati_filter,'surface_total_in_m2','price_aprox_usd','price_usd_per_m2')"
   ]
  },
  {
   "cell_type": "markdown",
   "metadata": {
    "deletable": true,
    "editable": true
   },
   "source": [
    "### Calculamos la superficie total en metros cuadrados de las propiedades que no cuentan con este dato"
   ]
  },
  {
   "cell_type": "code",
   "execution_count": 17,
   "metadata": {
    "collapsed": true,
    "deletable": true,
    "editable": true
   },
   "outputs": [],
   "source": [
    "dataframe_calc_value(sell_properati_filter,'surface_total_in_m2','price','price_per_m2')"
   ]
  },
  {
   "cell_type": "markdown",
   "metadata": {
    "deletable": true,
    "editable": true
   },
   "source": [
    "### Calculamos el precio por metro cuadrado en USD de los inmuebles que no cuentan con dicha informacion"
   ]
  },
  {
   "cell_type": "code",
   "execution_count": 18,
   "metadata": {
    "collapsed": true,
    "deletable": true,
    "editable": true
   },
   "outputs": [],
   "source": [
    "dataframe_calc_value(sell_properati_filter,'price_usd_per_m2','price_aprox_usd','surface_total_in_m2')"
   ]
  },
  {
   "cell_type": "markdown",
   "metadata": {
    "deletable": true,
    "editable": true
   },
   "source": [
    "### Se agrega el precio por metro cuadrado en la moneda actual en cada unos de las pripiedades"
   ]
  },
  {
   "cell_type": "code",
   "execution_count": 19,
   "metadata": {
    "collapsed": false,
    "deletable": true,
    "editable": true
   },
   "outputs": [],
   "source": [
    "dataframe_calc_value(sell_properati_filter,'price_per_m2','price','surface_total_in_m2')"
   ]
  },
  {
   "cell_type": "code",
   "execution_count": 20,
   "metadata": {
    "collapsed": false,
    "deletable": true,
    "editable": true
   },
   "outputs": [],
   "source": [
    "sell_properati_filter = sell_properati_filter[~((sell_properati_filter['surface_total_in_m2'] == 0 ) | \\\n",
    "                     (sell_properati_filter['price'] == 0 ))]"
   ]
  },
  {
   "cell_type": "code",
   "execution_count": 21,
   "metadata": {
    "collapsed": false,
    "deletable": true,
    "editable": true
   },
   "outputs": [
    {
     "data": {
      "text/plain": [
       "surface_total_in_m2    7402.093163\n",
       "price_usd_per_m2       2268.710530\n",
       "price_per_m2           3892.322905\n",
       "dtype: float64"
      ]
     },
     "execution_count": 21,
     "metadata": {},
     "output_type": "execute_result"
    }
   ],
   "source": [
    "sell_properati_filter[['surface_total_in_m2','price_usd_per_m2','price_per_m2']].mean()"
   ]
  },
  {
   "cell_type": "code",
   "execution_count": 22,
   "metadata": {
    "collapsed": false,
    "deletable": true,
    "editable": true
   },
   "outputs": [
    {
     "data": {
      "text/plain": [
       "(278094, 5)"
      ]
     },
     "execution_count": 22,
     "metadata": {},
     "output_type": "execute_result"
    }
   ],
   "source": [
    "sell_properati_filter[(pd.notnull(sell_properati_filter['surface_total_in_m2']))]\\\n",
    "            [['surface_total_in_m2','price_usd_per_m2','price_per_m2','price_aprox_usd','price']].shape"
   ]
  },
  {
   "cell_type": "code",
   "execution_count": null,
   "metadata": {
    "collapsed": true,
    "deletable": true,
    "editable": true
   },
   "outputs": [],
   "source": []
  },
  {
   "cell_type": "markdown",
   "metadata": {
    "deletable": true,
    "editable": true
   },
   "source": [
    "Filtraremos los datos que tengan una superficie total en metros cuadrados entre 0 y 1000"
   ]
  },
  {
   "cell_type": "code",
   "execution_count": null,
   "metadata": {
    "collapsed": true,
    "deletable": true,
    "editable": true
   },
   "outputs": [],
   "source": []
  },
  {
   "cell_type": "code",
   "execution_count": 23,
   "metadata": {
    "collapsed": false,
    "deletable": true,
    "editable": true
   },
   "outputs": [],
   "source": [
    "filter_properati = sell_properati_filter[(sell_properati_filter['price_aprox_usd'] < 600000) &\\\n",
    "                                         (sell_properati_filter['price_usd_per_m2'] < 5000) & \\\n",
    "                                         (sell_properati_filter['surface_total_in_m2'] < 1000)]"
   ]
  },
  {
   "cell_type": "code",
   "execution_count": 24,
   "metadata": {
    "collapsed": false,
    "deletable": true,
    "editable": true
   },
   "outputs": [
    {
     "data": {
      "text/plain": [
       "62.02927539329903"
      ]
     },
     "execution_count": 24,
     "metadata": {},
     "output_type": "execute_result"
    }
   ],
   "source": [
    "float(filter_properati.shape[0]) / float(sell_properati.shape[0]) * 100"
   ]
  },
  {
   "cell_type": "code",
   "execution_count": 25,
   "metadata": {
    "collapsed": false,
    "deletable": true,
    "editable": true
   },
   "outputs": [
    {
     "data": {
      "text/plain": [
       "Index([u'created_on', u'currency', u'expenses', u'floor', u'geonames_id',\n",
       "       u'lat', u'lat-lon', u'lon', u'place_name', u'place_with_parent_names',\n",
       "       u'price', u'price_aprox_local_currency', u'price_aprox_usd',\n",
       "       u'price_per_m2', u'price_usd_per_m2', u'property_type', u'rooms',\n",
       "       u'state_name', u'surface_covered_in_m2', u'surface_total_in_m2',\n",
       "       u'year', u'year_month', u'zone'],\n",
       "      dtype='object')"
      ]
     },
     "execution_count": 25,
     "metadata": {},
     "output_type": "execute_result"
    }
   ],
   "source": [
    "filter_properati.columns"
   ]
  },
  {
   "cell_type": "code",
   "execution_count": 26,
   "metadata": {
    "collapsed": false,
    "deletable": true,
    "editable": true,
    "scrolled": true
   },
   "outputs": [
    {
     "data": {
      "text/html": [
       "<div>\n",
       "<style>\n",
       "    .dataframe thead tr:only-child th {\n",
       "        text-align: right;\n",
       "    }\n",
       "\n",
       "    .dataframe thead th {\n",
       "        text-align: left;\n",
       "    }\n",
       "\n",
       "    .dataframe tbody tr th {\n",
       "        vertical-align: top;\n",
       "    }\n",
       "</style>\n",
       "<table border=\"1\" class=\"dataframe\">\n",
       "  <thead>\n",
       "    <tr style=\"text-align: right;\">\n",
       "      <th></th>\n",
       "      <th>states</th>\n",
       "    </tr>\n",
       "  </thead>\n",
       "  <tbody>\n",
       "    <tr>\n",
       "      <th>0</th>\n",
       "      <td>Bs.As. G.B.A. Zona Sur</td>\n",
       "    </tr>\n",
       "    <tr>\n",
       "      <th>1</th>\n",
       "      <td>Capital Federal</td>\n",
       "    </tr>\n",
       "    <tr>\n",
       "      <th>2</th>\n",
       "      <td>Bs.As. G.B.A. Zona Oeste</td>\n",
       "    </tr>\n",
       "    <tr>\n",
       "      <th>3</th>\n",
       "      <td>Bs.As. G.B.A. Zona Norte</td>\n",
       "    </tr>\n",
       "  </tbody>\n",
       "</table>\n",
       "</div>"
      ],
      "text/plain": [
       "                     states\n",
       "0    Bs.As. G.B.A. Zona Sur\n",
       "1           Capital Federal\n",
       "2  Bs.As. G.B.A. Zona Oeste\n",
       "3  Bs.As. G.B.A. Zona Norte"
      ]
     },
     "execution_count": 26,
     "metadata": {},
     "output_type": "execute_result"
    }
   ],
   "source": [
    "pd.DataFrame(data=sell_properati.state_name.unique(),columns=['states'])"
   ]
  },
  {
   "cell_type": "code",
   "execution_count": 27,
   "metadata": {
    "collapsed": false,
    "deletable": true,
    "editable": true
   },
   "outputs": [],
   "source": [
    "df = pd.DataFrame(data=sell_properati.place_name.unique(),columns=['place_name']).reset_index()\n"
   ]
  },
  {
   "cell_type": "code",
   "execution_count": 28,
   "metadata": {
    "collapsed": false,
    "deletable": true,
    "editable": true
   },
   "outputs": [],
   "source": [
    "df.rename(columns={'index':'id_place_name'},inplace=True)"
   ]
  },
  {
   "cell_type": "code",
   "execution_count": 29,
   "metadata": {
    "collapsed": false,
    "deletable": true,
    "editable": true,
    "scrolled": false
   },
   "outputs": [],
   "source": [
    "filter_properati = filter_properati.merge(how='left',left_on='place_name',right_on='place_name',right=df)"
   ]
  },
  {
   "cell_type": "code",
   "execution_count": 30,
   "metadata": {
    "collapsed": true,
    "deletable": true,
    "editable": true
   },
   "outputs": [],
   "source": [
    "df = pd.DataFrame(data=sell_properati.state_name.unique(),columns=['states']).reset_index()\n",
    "df.rename(columns={'index':'id_states'},inplace=True)"
   ]
  },
  {
   "cell_type": "code",
   "execution_count": 31,
   "metadata": {
    "collapsed": false,
    "deletable": true,
    "editable": true
   },
   "outputs": [],
   "source": [
    "filter_properati = filter_properati.merge(how='left',left_on='state_name',right_on='states',right=df)"
   ]
  },
  {
   "cell_type": "code",
   "execution_count": 32,
   "metadata": {
    "collapsed": false,
    "deletable": true,
    "editable": true
   },
   "outputs": [],
   "source": [
    "filter_properati.created_on = filter_properati.created_on.astype(int)"
   ]
  },
  {
   "cell_type": "code",
   "execution_count": 33,
   "metadata": {
    "collapsed": true,
    "deletable": true,
    "editable": true
   },
   "outputs": [],
   "source": [
    "df = pd.DataFrame(data=sell_properati.property_type.unique(),columns=['property_type']).reset_index()\n",
    "df.rename(columns={'index':'id_property_type'},inplace=True)"
   ]
  },
  {
   "cell_type": "code",
   "execution_count": 34,
   "metadata": {
    "collapsed": false,
    "deletable": true,
    "editable": true
   },
   "outputs": [],
   "source": [
    "filter_properati = filter_properati.merge(how='left',left_on='property_type',right_on='property_type',right=df)"
   ]
  },
  {
   "cell_type": "code",
   "execution_count": 35,
   "metadata": {
    "collapsed": false,
    "deletable": true,
    "editable": true
   },
   "outputs": [
    {
     "name": "stdout",
     "output_type": "stream",
     "text": [
      "<class 'pandas.core.frame.DataFrame'>\n",
      "Int64Index: 243749 entries, 0 to 243748\n",
      "Data columns (total 27 columns):\n",
      "created_on                    243749 non-null int64\n",
      "currency                      243749 non-null object\n",
      "expenses                      19623 non-null object\n",
      "floor                         47217 non-null float64\n",
      "geonames_id                   199847 non-null float64\n",
      "lat                           192128 non-null float64\n",
      "lat-lon                       192128 non-null object\n",
      "lon                           192123 non-null float64\n",
      "place_name                    243749 non-null object\n",
      "place_with_parent_names       243749 non-null object\n",
      "price                         243749 non-null float64\n",
      "price_aprox_local_currency    243749 non-null float64\n",
      "price_aprox_usd               243749 non-null float64\n",
      "price_per_m2                  243749 non-null float64\n",
      "price_usd_per_m2              243749 non-null float64\n",
      "property_type                 243749 non-null object\n",
      "rooms                         160435 non-null float64\n",
      "state_name                    243749 non-null object\n",
      "surface_covered_in_m2         113180 non-null float64\n",
      "surface_total_in_m2           243749 non-null float64\n",
      "year                          243749 non-null int64\n",
      "year_month                    243749 non-null object\n",
      "zone                          243749 non-null object\n",
      "id_place_name                 243749 non-null int64\n",
      "id_states                     243749 non-null int64\n",
      "states                        243749 non-null object\n",
      "id_property_type              243749 non-null int64\n",
      "dtypes: float64(12), int64(5), object(10)\n",
      "memory usage: 52.1+ MB\n"
     ]
    }
   ],
   "source": [
    "filter_properati.info()"
   ]
  },
  {
   "cell_type": "code",
   "execution_count": 36,
   "metadata": {
    "collapsed": false,
    "deletable": true,
    "editable": true
   },
   "outputs": [
    {
     "data": {
      "text/plain": [
       "Index([u'created_on', u'currency', u'expenses', u'floor', u'geonames_id',\n",
       "       u'lat', u'lat-lon', u'lon', u'place_name', u'place_with_parent_names',\n",
       "       u'price', u'price_aprox_local_currency', u'price_aprox_usd',\n",
       "       u'price_per_m2', u'price_usd_per_m2', u'property_type', u'rooms',\n",
       "       u'state_name', u'surface_covered_in_m2', u'surface_total_in_m2',\n",
       "       u'year', u'year_month', u'zone', u'id_place_name', u'id_states',\n",
       "       u'states', u'id_property_type'],\n",
       "      dtype='object')"
      ]
     },
     "execution_count": 36,
     "metadata": {},
     "output_type": "execute_result"
    }
   ],
   "source": [
    "filter_properati.columns"
   ]
  },
  {
   "cell_type": "code",
   "execution_count": null,
   "metadata": {
    "collapsed": true,
    "deletable": true,
    "editable": true
   },
   "outputs": [],
   "source": []
  },
  {
   "cell_type": "code",
   "execution_count": 37,
   "metadata": {
    "collapsed": false,
    "deletable": true,
    "editable": true
   },
   "outputs": [],
   "source": [
    "data = filter_properati.drop(axis=1,labels=['currency','lat','lat-lon','lon','place_name','place_with_parent_names','price'\\\n",
    "                                            ,'price_aprox_local_currency','price_per_m2','price_usd_per_m2','property_type','state_name'\\\n",
    "                                            ,'surface_covered_in_m2','year','year_month','zone','states'])"
   ]
  },
  {
   "cell_type": "code",
   "execution_count": 38,
   "metadata": {
    "collapsed": true,
    "deletable": true,
    "editable": true
   },
   "outputs": [],
   "source": [
    "import re\n",
    "\n",
    "def devolverInt(x):\n",
    "    return float(re.search(r'\\d+', x).group())"
   ]
  },
  {
   "cell_type": "code",
   "execution_count": 39,
   "metadata": {
    "collapsed": false,
    "deletable": true,
    "editable": true
   },
   "outputs": [],
   "source": [
    "data['geonames_id'] = data.geonames_id.apply(lambda x : 0 if pd.isnull(x) else x )"
   ]
  },
  {
   "cell_type": "code",
   "execution_count": 40,
   "metadata": {
    "collapsed": false,
    "deletable": true,
    "editable": true
   },
   "outputs": [],
   "source": [
    "data['expenses'] = data.expenses.apply(lambda x : devolverInt(x) if pd.notnull(x) else 0 )"
   ]
  },
  {
   "cell_type": "code",
   "execution_count": 41,
   "metadata": {
    "collapsed": false,
    "deletable": true,
    "editable": true
   },
   "outputs": [],
   "source": [
    "data['floor'] = data.floor.apply(lambda x : float(x) if pd.notnull(x) else 0 )"
   ]
  },
  {
   "cell_type": "code",
   "execution_count": 42,
   "metadata": {
    "collapsed": false,
    "deletable": true,
    "editable": true
   },
   "outputs": [],
   "source": [
    "data['price_aprox_usd'] = data.price_aprox_usd.apply(lambda x : float(x) if pd.notnull(x) else 0 )"
   ]
  },
  {
   "cell_type": "code",
   "execution_count": 43,
   "metadata": {
    "collapsed": false,
    "deletable": true,
    "editable": true
   },
   "outputs": [],
   "source": [
    "data['rooms'] = data.rooms.apply(lambda x : float(x) if pd.notnull(x) else 0 )"
   ]
  },
  {
   "cell_type": "code",
   "execution_count": 44,
   "metadata": {
    "collapsed": false,
    "deletable": true,
    "editable": true
   },
   "outputs": [],
   "source": [
    "data['surface_total_in_m2'] = data.surface_total_in_m2.apply(lambda x : float(x) if pd.notnull(x) else 0 )"
   ]
  },
  {
   "cell_type": "code",
   "execution_count": 45,
   "metadata": {
    "collapsed": false,
    "deletable": true,
    "editable": true
   },
   "outputs": [
    {
     "name": "stdout",
     "output_type": "stream",
     "text": [
      "<class 'pandas.core.frame.DataFrame'>\n",
      "Int64Index: 243749 entries, 0 to 243748\n",
      "Data columns (total 10 columns):\n",
      "created_on             243749 non-null int64\n",
      "expenses               243749 non-null float64\n",
      "floor                  243749 non-null float64\n",
      "geonames_id            243749 non-null float64\n",
      "price_aprox_usd        243749 non-null float64\n",
      "rooms                  243749 non-null float64\n",
      "surface_total_in_m2    243749 non-null float64\n",
      "id_place_name          243749 non-null int64\n",
      "id_states              243749 non-null int64\n",
      "id_property_type       243749 non-null int64\n",
      "dtypes: float64(6), int64(4)\n",
      "memory usage: 20.5 MB\n"
     ]
    }
   ],
   "source": [
    "data.info()"
   ]
  },
  {
   "cell_type": "code",
   "execution_count": 46,
   "metadata": {
    "collapsed": false,
    "deletable": true,
    "editable": true
   },
   "outputs": [
    {
     "data": {
      "text/html": [
       "<div>\n",
       "<style>\n",
       "    .dataframe thead tr:only-child th {\n",
       "        text-align: right;\n",
       "    }\n",
       "\n",
       "    .dataframe thead th {\n",
       "        text-align: left;\n",
       "    }\n",
       "\n",
       "    .dataframe tbody tr th {\n",
       "        vertical-align: top;\n",
       "    }\n",
       "</style>\n",
       "<table border=\"1\" class=\"dataframe\">\n",
       "  <thead>\n",
       "    <tr style=\"text-align: right;\">\n",
       "      <th></th>\n",
       "      <th>created_on</th>\n",
       "      <th>expenses</th>\n",
       "      <th>floor</th>\n",
       "      <th>geonames_id</th>\n",
       "      <th>price_aprox_usd</th>\n",
       "      <th>rooms</th>\n",
       "      <th>surface_total_in_m2</th>\n",
       "      <th>id_place_name</th>\n",
       "      <th>id_states</th>\n",
       "      <th>id_property_type</th>\n",
       "    </tr>\n",
       "  </thead>\n",
       "  <tbody>\n",
       "    <tr>\n",
       "      <th>243744</th>\n",
       "      <td>1393545600000000000</td>\n",
       "      <td>0.0</td>\n",
       "      <td>0.0</td>\n",
       "      <td>3427753.0</td>\n",
       "      <td>130000.0</td>\n",
       "      <td>1.0</td>\n",
       "      <td>49.0</td>\n",
       "      <td>15</td>\n",
       "      <td>3</td>\n",
       "      <td>1</td>\n",
       "    </tr>\n",
       "    <tr>\n",
       "      <th>243745</th>\n",
       "      <td>1393545600000000000</td>\n",
       "      <td>0.0</td>\n",
       "      <td>0.0</td>\n",
       "      <td>3427753.0</td>\n",
       "      <td>160000.0</td>\n",
       "      <td>4.0</td>\n",
       "      <td>203.0</td>\n",
       "      <td>15</td>\n",
       "      <td>3</td>\n",
       "      <td>0</td>\n",
       "    </tr>\n",
       "    <tr>\n",
       "      <th>243746</th>\n",
       "      <td>1393545600000000000</td>\n",
       "      <td>0.0</td>\n",
       "      <td>0.0</td>\n",
       "      <td>3430550.0</td>\n",
       "      <td>65000.0</td>\n",
       "      <td>2.0</td>\n",
       "      <td>120.0</td>\n",
       "      <td>61</td>\n",
       "      <td>2</td>\n",
       "      <td>0</td>\n",
       "    </tr>\n",
       "    <tr>\n",
       "      <th>243747</th>\n",
       "      <td>1393545600000000000</td>\n",
       "      <td>8600.0</td>\n",
       "      <td>0.0</td>\n",
       "      <td>3436109.0</td>\n",
       "      <td>550000.0</td>\n",
       "      <td>3.0</td>\n",
       "      <td>324.0</td>\n",
       "      <td>31</td>\n",
       "      <td>1</td>\n",
       "      <td>1</td>\n",
       "    </tr>\n",
       "    <tr>\n",
       "      <th>243748</th>\n",
       "      <td>1393545600000000000</td>\n",
       "      <td>0.0</td>\n",
       "      <td>1.0</td>\n",
       "      <td>3429979.0</td>\n",
       "      <td>450000.0</td>\n",
       "      <td>3.0</td>\n",
       "      <td>268.0</td>\n",
       "      <td>22</td>\n",
       "      <td>3</td>\n",
       "      <td>0</td>\n",
       "    </tr>\n",
       "  </tbody>\n",
       "</table>\n",
       "</div>"
      ],
      "text/plain": [
       "                 created_on  expenses  floor  geonames_id  price_aprox_usd  \\\n",
       "243744  1393545600000000000       0.0    0.0    3427753.0         130000.0   \n",
       "243745  1393545600000000000       0.0    0.0    3427753.0         160000.0   \n",
       "243746  1393545600000000000       0.0    0.0    3430550.0          65000.0   \n",
       "243747  1393545600000000000    8600.0    0.0    3436109.0         550000.0   \n",
       "243748  1393545600000000000       0.0    1.0    3429979.0         450000.0   \n",
       "\n",
       "        rooms  surface_total_in_m2  id_place_name  id_states  id_property_type  \n",
       "243744    1.0                 49.0             15          3                 1  \n",
       "243745    4.0                203.0             15          3                 0  \n",
       "243746    2.0                120.0             61          2                 0  \n",
       "243747    3.0                324.0             31          1                 1  \n",
       "243748    3.0                268.0             22          3                 0  "
      ]
     },
     "execution_count": 46,
     "metadata": {},
     "output_type": "execute_result"
    }
   ],
   "source": [
    "data.tail()"
   ]
  },
  {
   "cell_type": "markdown",
   "metadata": {
    "deletable": true,
    "editable": true
   },
   "source": [
    "# Normalizacion de datos"
   ]
  },
  {
   "cell_type": "code",
   "execution_count": 109,
   "metadata": {
    "collapsed": true,
    "deletable": true,
    "editable": true
   },
   "outputs": [],
   "source": [
    "train = data.head(int(float(data.shape[0]) * 0.8)).copy()"
   ]
  },
  {
   "cell_type": "code",
   "execution_count": 110,
   "metadata": {
    "collapsed": true,
    "deletable": true,
    "editable": true
   },
   "outputs": [],
   "source": [
    "train_target = train[['price_aprox_usd']].copy()"
   ]
  },
  {
   "cell_type": "code",
   "execution_count": 111,
   "metadata": {
    "collapsed": true,
    "deletable": true,
    "editable": true
   },
   "outputs": [],
   "source": [
    "train.drop(inplace=True,labels=['price_aprox_usd'],axis=1)"
   ]
  },
  {
   "cell_type": "code",
   "execution_count": 112,
   "metadata": {
    "collapsed": true,
    "deletable": true,
    "editable": true
   },
   "outputs": [],
   "source": [
    "test = data.tail(int(float(data.shape[0]) * 0.2)).copy()"
   ]
  },
  {
   "cell_type": "code",
   "execution_count": 113,
   "metadata": {
    "collapsed": true,
    "deletable": true,
    "editable": true
   },
   "outputs": [],
   "source": [
    "test_target = test[['price_aprox_usd']].copy()"
   ]
  },
  {
   "cell_type": "code",
   "execution_count": 114,
   "metadata": {
    "collapsed": true,
    "deletable": true,
    "editable": true
   },
   "outputs": [],
   "source": [
    "test.drop(inplace=True,labels=['price_aprox_usd'],axis=1)"
   ]
  },
  {
   "cell_type": "code",
   "execution_count": 115,
   "metadata": {
    "collapsed": true,
    "deletable": true,
    "editable": true
   },
   "outputs": [],
   "source": [
    "for col in train.columns :\n",
    "    col_mean = train[col].mean()\n",
    "    col_std = train[col].std()\n",
    "    train[col] = (train[col] - col_mean) / col_std"
   ]
  },
  {
   "cell_type": "code",
   "execution_count": 116,
   "metadata": {
    "collapsed": true,
    "deletable": true,
    "editable": true
   },
   "outputs": [],
   "source": [
    "for col in test.columns :\n",
    "    col_mean = test[col].mean()\n",
    "    col_std = test[col].std()\n",
    "    test[col] = (test[col] - col_mean) / col_std"
   ]
  },
  {
   "cell_type": "markdown",
   "metadata": {
    "deletable": true,
    "editable": true
   },
   "source": [
    "# Reduccion de Dimensiones"
   ]
  },
  {
   "cell_type": "code",
   "execution_count": 117,
   "metadata": {
    "collapsed": true,
    "deletable": true,
    "editable": true
   },
   "outputs": [],
   "source": [
    "from sklearn import decomposition"
   ]
  },
  {
   "cell_type": "code",
   "execution_count": 118,
   "metadata": {
    "collapsed": true,
    "deletable": true,
    "editable": true
   },
   "outputs": [],
   "source": [
    "svd = decomposition.TruncatedSVD(n_components=5)"
   ]
  },
  {
   "cell_type": "code",
   "execution_count": null,
   "metadata": {
    "collapsed": true,
    "deletable": true,
    "editable": true
   },
   "outputs": [],
   "source": [
    "train_transform = svd.fit_transform(train)"
   ]
  },
  {
   "cell_type": "code",
   "execution_count": 99,
   "metadata": {
    "collapsed": false,
    "deletable": true,
    "editable": true
   },
   "outputs": [
    {
     "data": {
      "text/plain": [
       "<matplotlib.axes._subplots.AxesSubplot at 0x7fafe31bc210>"
      ]
     },
     "execution_count": 99,
     "metadata": {},
     "output_type": "execute_result"
    },
    {
     "data": {
      "image/png": "[encoded data removed]",
      "text/plain": [
       "<matplotlib.figure.Figure at 0x7fafe32a1790>"
      ]
     },
     "metadata": {},
     "output_type": "display_data"
    }
   ],
   "source": [
    "pd.DataFrame(svd.explained_variance_).plot()"
   ]
  },
  {
   "cell_type": "code",
   "execution_count": 100,
   "metadata": {
    "collapsed": true,
    "deletable": true,
    "editable": true
   },
   "outputs": [],
   "source": [
    "test_transform = svd.transform(test)"
   ]
  },
  {
   "cell_type": "code",
   "execution_count": 101,
   "metadata": {
    "collapsed": false,
    "deletable": true,
    "editable": true
   },
   "outputs": [],
   "source": [
    "test_transformDF = pd.DataFrame(test_transform)"
   ]
  },
  {
   "cell_type": "code",
   "execution_count": 105,
   "metadata": {
    "collapsed": false
   },
   "outputs": [
    {
     "data": {
      "text/html": [
       "<div>\n",
       "<style>\n",
       "    .dataframe thead tr:only-child th {\n",
       "        text-align: right;\n",
       "    }\n",
       "\n",
       "    .dataframe thead th {\n",
       "        text-align: left;\n",
       "    }\n",
       "\n",
       "    .dataframe tbody tr th {\n",
       "        vertical-align: top;\n",
       "    }\n",
       "</style>\n",
       "<table border=\"1\" class=\"dataframe\">\n",
       "  <thead>\n",
       "    <tr style=\"text-align: right;\">\n",
       "      <th></th>\n",
       "      <th>index</th>\n",
       "      <th>0</th>\n",
       "      <th>1</th>\n",
       "      <th>2</th>\n",
       "      <th>3</th>\n",
       "      <th>4</th>\n",
       "    </tr>\n",
       "  </thead>\n",
       "  <tbody>\n",
       "    <tr>\n",
       "      <th>0</th>\n",
       "      <td>0</td>\n",
       "      <td>1.489536e+18</td>\n",
       "      <td>-1.049492e+14</td>\n",
       "      <td>-2.946754e+06</td>\n",
       "      <td>306.908558</td>\n",
       "      <td>-48.029204</td>\n",
       "    </tr>\n",
       "    <tr>\n",
       "      <th>1</th>\n",
       "      <td>1</td>\n",
       "      <td>1.489536e+18</td>\n",
       "      <td>-1.049492e+14</td>\n",
       "      <td>4.852846e+05</td>\n",
       "      <td>-93.663294</td>\n",
       "      <td>-57.591921</td>\n",
       "    </tr>\n",
       "    <tr>\n",
       "      <th>2</th>\n",
       "      <td>2</td>\n",
       "      <td>1.489536e+18</td>\n",
       "      <td>-1.049492e+14</td>\n",
       "      <td>4.852846e+05</td>\n",
       "      <td>-94.663528</td>\n",
       "      <td>-57.562863</td>\n",
       "    </tr>\n",
       "    <tr>\n",
       "      <th>3</th>\n",
       "      <td>3</td>\n",
       "      <td>1.489536e+18</td>\n",
       "      <td>-1.049492e+14</td>\n",
       "      <td>4.852846e+05</td>\n",
       "      <td>-73.672198</td>\n",
       "      <td>-58.153791</td>\n",
       "    </tr>\n",
       "    <tr>\n",
       "      <th>4</th>\n",
       "      <td>4</td>\n",
       "      <td>1.489536e+18</td>\n",
       "      <td>-1.049492e+14</td>\n",
       "      <td>4.852846e+05</td>\n",
       "      <td>206.212068</td>\n",
       "      <td>-66.029950</td>\n",
       "    </tr>\n",
       "    <tr>\n",
       "      <th>5</th>\n",
       "      <td>5</td>\n",
       "      <td>1.489536e+18</td>\n",
       "      <td>-1.049492e+14</td>\n",
       "      <td>4.852846e+05</td>\n",
       "      <td>-107.657514</td>\n",
       "      <td>-57.197968</td>\n",
       "    </tr>\n",
       "    <tr>\n",
       "      <th>6</th>\n",
       "      <td>6</td>\n",
       "      <td>1.489536e+18</td>\n",
       "      <td>-1.049492e+14</td>\n",
       "      <td>4.852846e+05</td>\n",
       "      <td>-107.657514</td>\n",
       "      <td>-57.197968</td>\n",
       "    </tr>\n",
       "    <tr>\n",
       "      <th>7</th>\n",
       "      <td>7</td>\n",
       "      <td>1.489536e+18</td>\n",
       "      <td>-1.049492e+14</td>\n",
       "      <td>4.852846e+05</td>\n",
       "      <td>-85.667244</td>\n",
       "      <td>-57.816118</td>\n",
       "    </tr>\n",
       "    <tr>\n",
       "      <th>8</th>\n",
       "      <td>8</td>\n",
       "      <td>1.489536e+18</td>\n",
       "      <td>-1.049492e+14</td>\n",
       "      <td>4.852846e+05</td>\n",
       "      <td>-85.667244</td>\n",
       "      <td>-57.816118</td>\n",
       "    </tr>\n",
       "    <tr>\n",
       "      <th>9</th>\n",
       "      <td>9</td>\n",
       "      <td>1.489536e+18</td>\n",
       "      <td>-1.049492e+14</td>\n",
       "      <td>4.852846e+05</td>\n",
       "      <td>-107.657514</td>\n",
       "      <td>-57.197968</td>\n",
       "    </tr>\n",
       "    <tr>\n",
       "      <th>10</th>\n",
       "      <td>10</td>\n",
       "      <td>1.489536e+18</td>\n",
       "      <td>-1.049492e+14</td>\n",
       "      <td>4.852846e+05</td>\n",
       "      <td>-88.665358</td>\n",
       "      <td>-57.732618</td>\n",
       "    </tr>\n",
       "    <tr>\n",
       "      <th>11</th>\n",
       "      <td>11</td>\n",
       "      <td>1.489536e+18</td>\n",
       "      <td>-1.049492e+14</td>\n",
       "      <td>4.852846e+05</td>\n",
       "      <td>-63.676326</td>\n",
       "      <td>-58.435186</td>\n",
       "    </tr>\n",
       "    <tr>\n",
       "      <th>12</th>\n",
       "      <td>12</td>\n",
       "      <td>1.489536e+18</td>\n",
       "      <td>-1.049492e+14</td>\n",
       "      <td>4.852846e+05</td>\n",
       "      <td>-103.662777</td>\n",
       "      <td>-57.310800</td>\n",
       "    </tr>\n",
       "    <tr>\n",
       "      <th>13</th>\n",
       "      <td>13</td>\n",
       "      <td>1.489536e+18</td>\n",
       "      <td>-1.049492e+14</td>\n",
       "      <td>4.852846e+05</td>\n",
       "      <td>273.185054</td>\n",
       "      <td>-67.916213</td>\n",
       "    </tr>\n",
       "    <tr>\n",
       "      <th>14</th>\n",
       "      <td>14</td>\n",
       "      <td>1.489536e+18</td>\n",
       "      <td>-1.049492e+14</td>\n",
       "      <td>-2.946754e+06</td>\n",
       "      <td>70.004221</td>\n",
       "      <td>-41.365154</td>\n",
       "    </tr>\n",
       "    <tr>\n",
       "      <th>15</th>\n",
       "      <td>15</td>\n",
       "      <td>1.489536e+18</td>\n",
       "      <td>-1.049492e+14</td>\n",
       "      <td>4.852846e+05</td>\n",
       "      <td>-102.659578</td>\n",
       "      <td>-57.338665</td>\n",
       "    </tr>\n",
       "    <tr>\n",
       "      <th>16</th>\n",
       "      <td>16</td>\n",
       "      <td>1.489536e+18</td>\n",
       "      <td>-1.049492e+14</td>\n",
       "      <td>4.852846e+05</td>\n",
       "      <td>-95.663115</td>\n",
       "      <td>-57.534723</td>\n",
       "    </tr>\n",
       "    <tr>\n",
       "      <th>17</th>\n",
       "      <td>17</td>\n",
       "      <td>1.489536e+18</td>\n",
       "      <td>-1.049492e+14</td>\n",
       "      <td>4.852846e+05</td>\n",
       "      <td>-39.687529</td>\n",
       "      <td>-59.108696</td>\n",
       "    </tr>\n",
       "    <tr>\n",
       "      <th>18</th>\n",
       "      <td>18</td>\n",
       "      <td>1.489536e+18</td>\n",
       "      <td>-1.049492e+14</td>\n",
       "      <td>4.852846e+05</td>\n",
       "      <td>-106.657927</td>\n",
       "      <td>-57.226108</td>\n",
       "    </tr>\n",
       "    <tr>\n",
       "      <th>19</th>\n",
       "      <td>19</td>\n",
       "      <td>1.489536e+18</td>\n",
       "      <td>-1.049492e+14</td>\n",
       "      <td>4.852846e+05</td>\n",
       "      <td>-98.661877</td>\n",
       "      <td>-57.450305</td>\n",
       "    </tr>\n",
       "    <tr>\n",
       "      <th>20</th>\n",
       "      <td>20</td>\n",
       "      <td>1.489536e+18</td>\n",
       "      <td>-1.049492e+14</td>\n",
       "      <td>4.852846e+05</td>\n",
       "      <td>-39.687529</td>\n",
       "      <td>-59.108696</td>\n",
       "    </tr>\n",
       "    <tr>\n",
       "      <th>21</th>\n",
       "      <td>21</td>\n",
       "      <td>1.489536e+18</td>\n",
       "      <td>-1.049492e+14</td>\n",
       "      <td>4.852846e+05</td>\n",
       "      <td>-5.701566</td>\n",
       "      <td>-60.065438</td>\n",
       "    </tr>\n",
       "    <tr>\n",
       "      <th>22</th>\n",
       "      <td>22</td>\n",
       "      <td>1.489536e+18</td>\n",
       "      <td>-1.049492e+14</td>\n",
       "      <td>4.852846e+05</td>\n",
       "      <td>174.224632</td>\n",
       "      <td>-65.128569</td>\n",
       "    </tr>\n",
       "    <tr>\n",
       "      <th>23</th>\n",
       "      <td>23</td>\n",
       "      <td>1.489536e+18</td>\n",
       "      <td>-1.049492e+14</td>\n",
       "      <td>-2.946754e+06</td>\n",
       "      <td>237.937692</td>\n",
       "      <td>-46.088499</td>\n",
       "    </tr>\n",
       "    <tr>\n",
       "      <th>24</th>\n",
       "      <td>24</td>\n",
       "      <td>1.489536e+18</td>\n",
       "      <td>-1.049492e+14</td>\n",
       "      <td>4.852846e+05</td>\n",
       "      <td>75.266799</td>\n",
       "      <td>-62.344598</td>\n",
       "    </tr>\n",
       "    <tr>\n",
       "      <th>25</th>\n",
       "      <td>25</td>\n",
       "      <td>1.489536e+18</td>\n",
       "      <td>-1.049492e+14</td>\n",
       "      <td>4.852846e+05</td>\n",
       "      <td>-99.660816</td>\n",
       "      <td>-57.423084</td>\n",
       "    </tr>\n",
       "    <tr>\n",
       "      <th>26</th>\n",
       "      <td>26</td>\n",
       "      <td>1.489536e+18</td>\n",
       "      <td>-1.049492e+14</td>\n",
       "      <td>4.852846e+05</td>\n",
       "      <td>-86.666831</td>\n",
       "      <td>-57.787978</td>\n",
       "    </tr>\n",
       "    <tr>\n",
       "      <th>27</th>\n",
       "      <td>27</td>\n",
       "      <td>1.489536e+18</td>\n",
       "      <td>-1.049492e+14</td>\n",
       "      <td>4.852846e+05</td>\n",
       "      <td>-41.686056</td>\n",
       "      <td>-59.053336</td>\n",
       "    </tr>\n",
       "    <tr>\n",
       "      <th>28</th>\n",
       "      <td>28</td>\n",
       "      <td>1.489536e+18</td>\n",
       "      <td>-1.049492e+14</td>\n",
       "      <td>4.852846e+05</td>\n",
       "      <td>-102.659578</td>\n",
       "      <td>-57.338665</td>\n",
       "    </tr>\n",
       "    <tr>\n",
       "      <th>29</th>\n",
       "      <td>29</td>\n",
       "      <td>1.489536e+18</td>\n",
       "      <td>-1.049492e+14</td>\n",
       "      <td>4.852846e+05</td>\n",
       "      <td>-86.666831</td>\n",
       "      <td>-57.787978</td>\n",
       "    </tr>\n",
       "    <tr>\n",
       "      <th>...</th>\n",
       "      <td>...</td>\n",
       "      <td>...</td>\n",
       "      <td>...</td>\n",
       "      <td>...</td>\n",
       "      <td>...</td>\n",
       "      <td>...</td>\n",
       "    </tr>\n",
       "    <tr>\n",
       "      <th>48719</th>\n",
       "      <td>48719</td>\n",
       "      <td>1.393546e+18</td>\n",
       "      <td>-9.818593e+13</td>\n",
       "      <td>6.784998e+05</td>\n",
       "      <td>-89.887344</td>\n",
       "      <td>-44.462482</td>\n",
       "    </tr>\n",
       "    <tr>\n",
       "      <th>48720</th>\n",
       "      <td>48720</td>\n",
       "      <td>1.393546e+18</td>\n",
       "      <td>-9.818593e+13</td>\n",
       "      <td>6.790178e+05</td>\n",
       "      <td>-57.477065</td>\n",
       "      <td>-29.433043</td>\n",
       "    </tr>\n",
       "    <tr>\n",
       "      <th>48721</th>\n",
       "      <td>48721</td>\n",
       "      <td>1.393546e+18</td>\n",
       "      <td>-9.818593e+13</td>\n",
       "      <td>6.790178e+05</td>\n",
       "      <td>-96.454142</td>\n",
       "      <td>-28.326186</td>\n",
       "    </tr>\n",
       "    <tr>\n",
       "      <th>48722</th>\n",
       "      <td>48722</td>\n",
       "      <td>1.393546e+18</td>\n",
       "      <td>-9.818593e+13</td>\n",
       "      <td>6.706018e+05</td>\n",
       "      <td>-68.107611</td>\n",
       "      <td>23.789121</td>\n",
       "    </tr>\n",
       "    <tr>\n",
       "      <th>48723</th>\n",
       "      <td>48723</td>\n",
       "      <td>1.393546e+18</td>\n",
       "      <td>-9.818593e+13</td>\n",
       "      <td>6.706018e+05</td>\n",
       "      <td>-67.146719</td>\n",
       "      <td>23.682199</td>\n",
       "    </tr>\n",
       "    <tr>\n",
       "      <th>48724</th>\n",
       "      <td>48724</td>\n",
       "      <td>1.393546e+18</td>\n",
       "      <td>-9.818593e+13</td>\n",
       "      <td>6.792208e+05</td>\n",
       "      <td>-94.817785</td>\n",
       "      <td>-41.373676</td>\n",
       "    </tr>\n",
       "    <tr>\n",
       "      <th>48725</th>\n",
       "      <td>48725</td>\n",
       "      <td>1.393546e+18</td>\n",
       "      <td>-9.818593e+13</td>\n",
       "      <td>6.732597e+05</td>\n",
       "      <td>189.905194</td>\n",
       "      <td>53.660554</td>\n",
       "    </tr>\n",
       "    <tr>\n",
       "      <th>48726</th>\n",
       "      <td>48726</td>\n",
       "      <td>1.393546e+18</td>\n",
       "      <td>-9.818593e+13</td>\n",
       "      <td>6.770538e+05</td>\n",
       "      <td>67.960011</td>\n",
       "      <td>-15.895754</td>\n",
       "    </tr>\n",
       "    <tr>\n",
       "      <th>48727</th>\n",
       "      <td>48727</td>\n",
       "      <td>1.393546e+18</td>\n",
       "      <td>-9.818593e+13</td>\n",
       "      <td>6.786498e+05</td>\n",
       "      <td>-30.825586</td>\n",
       "      <td>63.902089</td>\n",
       "    </tr>\n",
       "    <tr>\n",
       "      <th>48728</th>\n",
       "      <td>48728</td>\n",
       "      <td>1.393546e+18</td>\n",
       "      <td>-9.818593e+13</td>\n",
       "      <td>6.734348e+05</td>\n",
       "      <td>-59.517232</td>\n",
       "      <td>6.640238</td>\n",
       "    </tr>\n",
       "    <tr>\n",
       "      <th>48729</th>\n",
       "      <td>48729</td>\n",
       "      <td>1.393546e+18</td>\n",
       "      <td>-9.818593e+13</td>\n",
       "      <td>6.734348e+05</td>\n",
       "      <td>-69.544329</td>\n",
       "      <td>6.851349</td>\n",
       "    </tr>\n",
       "    <tr>\n",
       "      <th>48730</th>\n",
       "      <td>48730</td>\n",
       "      <td>1.393546e+18</td>\n",
       "      <td>-9.818593e+13</td>\n",
       "      <td>6.734348e+05</td>\n",
       "      <td>-66.514342</td>\n",
       "      <td>6.837214</td>\n",
       "    </tr>\n",
       "    <tr>\n",
       "      <th>48731</th>\n",
       "      <td>48731</td>\n",
       "      <td>1.393546e+18</td>\n",
       "      <td>-9.818593e+13</td>\n",
       "      <td>6.734348e+05</td>\n",
       "      <td>-91.503374</td>\n",
       "      <td>7.539783</td>\n",
       "    </tr>\n",
       "    <tr>\n",
       "      <th>48732</th>\n",
       "      <td>48732</td>\n",
       "      <td>1.393546e+18</td>\n",
       "      <td>-9.818593e+13</td>\n",
       "      <td>6.706478e+05</td>\n",
       "      <td>-24.763513</td>\n",
       "      <td>-37.360771</td>\n",
       "    </tr>\n",
       "    <tr>\n",
       "      <th>48733</th>\n",
       "      <td>48733</td>\n",
       "      <td>1.393546e+18</td>\n",
       "      <td>-9.818593e+13</td>\n",
       "      <td>6.795377e+05</td>\n",
       "      <td>154.755596</td>\n",
       "      <td>223.766870</td>\n",
       "    </tr>\n",
       "    <tr>\n",
       "      <th>48734</th>\n",
       "      <td>48734</td>\n",
       "      <td>1.393546e+18</td>\n",
       "      <td>-9.818593e+13</td>\n",
       "      <td>6.708968e+05</td>\n",
       "      <td>-63.901068</td>\n",
       "      <td>-40.348300</td>\n",
       "    </tr>\n",
       "    <tr>\n",
       "      <th>48735</th>\n",
       "      <td>48735</td>\n",
       "      <td>1.393546e+18</td>\n",
       "      <td>-9.818593e+13</td>\n",
       "      <td>6.771468e+05</td>\n",
       "      <td>-30.229283</td>\n",
       "      <td>49.890434</td>\n",
       "    </tr>\n",
       "    <tr>\n",
       "      <th>48736</th>\n",
       "      <td>48736</td>\n",
       "      <td>1.393546e+18</td>\n",
       "      <td>-9.818593e+13</td>\n",
       "      <td>6.771468e+05</td>\n",
       "      <td>-50.225797</td>\n",
       "      <td>50.451893</td>\n",
       "    </tr>\n",
       "    <tr>\n",
       "      <th>48737</th>\n",
       "      <td>48737</td>\n",
       "      <td>1.393546e+18</td>\n",
       "      <td>-9.818593e+13</td>\n",
       "      <td>6.706478e+05</td>\n",
       "      <td>-22.763827</td>\n",
       "      <td>-37.415076</td>\n",
       "    </tr>\n",
       "    <tr>\n",
       "      <th>48738</th>\n",
       "      <td>48738</td>\n",
       "      <td>1.393546e+18</td>\n",
       "      <td>-9.818593e+13</td>\n",
       "      <td>6.771188e+05</td>\n",
       "      <td>18.929909</td>\n",
       "      <td>90.520132</td>\n",
       "    </tr>\n",
       "    <tr>\n",
       "      <th>48739</th>\n",
       "      <td>48739</td>\n",
       "      <td>1.393546e+18</td>\n",
       "      <td>-9.818593e+13</td>\n",
       "      <td>6.706478e+05</td>\n",
       "      <td>27.215531</td>\n",
       "      <td>-38.822049</td>\n",
       "    </tr>\n",
       "    <tr>\n",
       "      <th>48740</th>\n",
       "      <td>48740</td>\n",
       "      <td>1.393546e+18</td>\n",
       "      <td>-9.818593e+13</td>\n",
       "      <td>6.706478e+05</td>\n",
       "      <td>-22.769245</td>\n",
       "      <td>-37.415487</td>\n",
       "    </tr>\n",
       "    <tr>\n",
       "      <th>48741</th>\n",
       "      <td>48741</td>\n",
       "      <td>1.393546e+18</td>\n",
       "      <td>-9.818593e+13</td>\n",
       "      <td>6.722318e+05</td>\n",
       "      <td>-41.362510</td>\n",
       "      <td>12.139411</td>\n",
       "    </tr>\n",
       "    <tr>\n",
       "      <th>48742</th>\n",
       "      <td>48742</td>\n",
       "      <td>1.393546e+18</td>\n",
       "      <td>-9.818593e+13</td>\n",
       "      <td>6.721268e+05</td>\n",
       "      <td>12.102330</td>\n",
       "      <td>-43.383946</td>\n",
       "    </tr>\n",
       "    <tr>\n",
       "      <th>48743</th>\n",
       "      <td>48743</td>\n",
       "      <td>1.393546e+18</td>\n",
       "      <td>-9.818593e+13</td>\n",
       "      <td>6.731228e+05</td>\n",
       "      <td>-92.185812</td>\n",
       "      <td>-33.613099</td>\n",
       "    </tr>\n",
       "    <tr>\n",
       "      <th>48744</th>\n",
       "      <td>48744</td>\n",
       "      <td>1.393546e+18</td>\n",
       "      <td>-9.818593e+13</td>\n",
       "      <td>6.708968e+05</td>\n",
       "      <td>-83.847942</td>\n",
       "      <td>-39.696392</td>\n",
       "    </tr>\n",
       "    <tr>\n",
       "      <th>48745</th>\n",
       "      <td>48745</td>\n",
       "      <td>1.393546e+18</td>\n",
       "      <td>-9.818593e+13</td>\n",
       "      <td>6.708968e+05</td>\n",
       "      <td>70.088344</td>\n",
       "      <td>-44.026977</td>\n",
       "    </tr>\n",
       "    <tr>\n",
       "      <th>48746</th>\n",
       "      <td>48746</td>\n",
       "      <td>1.393546e+18</td>\n",
       "      <td>-9.818593e+13</td>\n",
       "      <td>6.736938e+05</td>\n",
       "      <td>-11.546285</td>\n",
       "      <td>4.312814</td>\n",
       "    </tr>\n",
       "    <tr>\n",
       "      <th>48747</th>\n",
       "      <td>48747</td>\n",
       "      <td>1.393546e+18</td>\n",
       "      <td>-9.818593e+13</td>\n",
       "      <td>6.792528e+05</td>\n",
       "      <td>191.601927</td>\n",
       "      <td>-31.360195</td>\n",
       "    </tr>\n",
       "    <tr>\n",
       "      <th>48748</th>\n",
       "      <td>48748</td>\n",
       "      <td>1.393546e+18</td>\n",
       "      <td>-9.818593e+13</td>\n",
       "      <td>6.731228e+05</td>\n",
       "      <td>135.284820</td>\n",
       "      <td>-38.850809</td>\n",
       "    </tr>\n",
       "  </tbody>\n",
       "</table>\n",
       "<p>48749 rows × 6 columns</p>\n",
       "</div>"
      ],
      "text/plain": [
       "       index             0             1             2           3           4\n",
       "0          0  1.489536e+18 -1.049492e+14 -2.946754e+06  306.908558  -48.029204\n",
       "1          1  1.489536e+18 -1.049492e+14  4.852846e+05  -93.663294  -57.591921\n",
       "2          2  1.489536e+18 -1.049492e+14  4.852846e+05  -94.663528  -57.562863\n",
       "3          3  1.489536e+18 -1.049492e+14  4.852846e+05  -73.672198  -58.153791\n",
       "4          4  1.489536e+18 -1.049492e+14  4.852846e+05  206.212068  -66.029950\n",
       "5          5  1.489536e+18 -1.049492e+14  4.852846e+05 -107.657514  -57.197968\n",
       "6          6  1.489536e+18 -1.049492e+14  4.852846e+05 -107.657514  -57.197968\n",
       "7          7  1.489536e+18 -1.049492e+14  4.852846e+05  -85.667244  -57.816118\n",
       "8          8  1.489536e+18 -1.049492e+14  4.852846e+05  -85.667244  -57.816118\n",
       "9          9  1.489536e+18 -1.049492e+14  4.852846e+05 -107.657514  -57.197968\n",
       "10        10  1.489536e+18 -1.049492e+14  4.852846e+05  -88.665358  -57.732618\n",
       "11        11  1.489536e+18 -1.049492e+14  4.852846e+05  -63.676326  -58.435186\n",
       "12        12  1.489536e+18 -1.049492e+14  4.852846e+05 -103.662777  -57.310800\n",
       "13        13  1.489536e+18 -1.049492e+14  4.852846e+05  273.185054  -67.916213\n",
       "14        14  1.489536e+18 -1.049492e+14 -2.946754e+06   70.004221  -41.365154\n",
       "15        15  1.489536e+18 -1.049492e+14  4.852846e+05 -102.659578  -57.338665\n",
       "16        16  1.489536e+18 -1.049492e+14  4.852846e+05  -95.663115  -57.534723\n",
       "17        17  1.489536e+18 -1.049492e+14  4.852846e+05  -39.687529  -59.108696\n",
       "18        18  1.489536e+18 -1.049492e+14  4.852846e+05 -106.657927  -57.226108\n",
       "19        19  1.489536e+18 -1.049492e+14  4.852846e+05  -98.661877  -57.450305\n",
       "20        20  1.489536e+18 -1.049492e+14  4.852846e+05  -39.687529  -59.108696\n",
       "21        21  1.489536e+18 -1.049492e+14  4.852846e+05   -5.701566  -60.065438\n",
       "22        22  1.489536e+18 -1.049492e+14  4.852846e+05  174.224632  -65.128569\n",
       "23        23  1.489536e+18 -1.049492e+14 -2.946754e+06  237.937692  -46.088499\n",
       "24        24  1.489536e+18 -1.049492e+14  4.852846e+05   75.266799  -62.344598\n",
       "25        25  1.489536e+18 -1.049492e+14  4.852846e+05  -99.660816  -57.423084\n",
       "26        26  1.489536e+18 -1.049492e+14  4.852846e+05  -86.666831  -57.787978\n",
       "27        27  1.489536e+18 -1.049492e+14  4.852846e+05  -41.686056  -59.053336\n",
       "28        28  1.489536e+18 -1.049492e+14  4.852846e+05 -102.659578  -57.338665\n",
       "29        29  1.489536e+18 -1.049492e+14  4.852846e+05  -86.666831  -57.787978\n",
       "...      ...           ...           ...           ...         ...         ...\n",
       "48719  48719  1.393546e+18 -9.818593e+13  6.784998e+05  -89.887344  -44.462482\n",
       "48720  48720  1.393546e+18 -9.818593e+13  6.790178e+05  -57.477065  -29.433043\n",
       "48721  48721  1.393546e+18 -9.818593e+13  6.790178e+05  -96.454142  -28.326186\n",
       "48722  48722  1.393546e+18 -9.818593e+13  6.706018e+05  -68.107611   23.789121\n",
       "48723  48723  1.393546e+18 -9.818593e+13  6.706018e+05  -67.146719   23.682199\n",
       "48724  48724  1.393546e+18 -9.818593e+13  6.792208e+05  -94.817785  -41.373676\n",
       "48725  48725  1.393546e+18 -9.818593e+13  6.732597e+05  189.905194   53.660554\n",
       "48726  48726  1.393546e+18 -9.818593e+13  6.770538e+05   67.960011  -15.895754\n",
       "48727  48727  1.393546e+18 -9.818593e+13  6.786498e+05  -30.825586   63.902089\n",
       "48728  48728  1.393546e+18 -9.818593e+13  6.734348e+05  -59.517232    6.640238\n",
       "48729  48729  1.393546e+18 -9.818593e+13  6.734348e+05  -69.544329    6.851349\n",
       "48730  48730  1.393546e+18 -9.818593e+13  6.734348e+05  -66.514342    6.837214\n",
       "48731  48731  1.393546e+18 -9.818593e+13  6.734348e+05  -91.503374    7.539783\n",
       "48732  48732  1.393546e+18 -9.818593e+13  6.706478e+05  -24.763513  -37.360771\n",
       "48733  48733  1.393546e+18 -9.818593e+13  6.795377e+05  154.755596  223.766870\n",
       "48734  48734  1.393546e+18 -9.818593e+13  6.708968e+05  -63.901068  -40.348300\n",
       "48735  48735  1.393546e+18 -9.818593e+13  6.771468e+05  -30.229283   49.890434\n",
       "48736  48736  1.393546e+18 -9.818593e+13  6.771468e+05  -50.225797   50.451893\n",
       "48737  48737  1.393546e+18 -9.818593e+13  6.706478e+05  -22.763827  -37.415076\n",
       "48738  48738  1.393546e+18 -9.818593e+13  6.771188e+05   18.929909   90.520132\n",
       "48739  48739  1.393546e+18 -9.818593e+13  6.706478e+05   27.215531  -38.822049\n",
       "48740  48740  1.393546e+18 -9.818593e+13  6.706478e+05  -22.769245  -37.415487\n",
       "48741  48741  1.393546e+18 -9.818593e+13  6.722318e+05  -41.362510   12.139411\n",
       "48742  48742  1.393546e+18 -9.818593e+13  6.721268e+05   12.102330  -43.383946\n",
       "48743  48743  1.393546e+18 -9.818593e+13  6.731228e+05  -92.185812  -33.613099\n",
       "48744  48744  1.393546e+18 -9.818593e+13  6.708968e+05  -83.847942  -39.696392\n",
       "48745  48745  1.393546e+18 -9.818593e+13  6.708968e+05   70.088344  -44.026977\n",
       "48746  48746  1.393546e+18 -9.818593e+13  6.736938e+05  -11.546285    4.312814\n",
       "48747  48747  1.393546e+18 -9.818593e+13  6.792528e+05  191.601927  -31.360195\n",
       "48748  48748  1.393546e+18 -9.818593e+13  6.731228e+05  135.284820  -38.850809\n",
       "\n",
       "[48749 rows x 6 columns]"
      ]
     },
     "execution_count": 105,
     "metadata": {},
     "output_type": "execute_result"
    }
   ],
   "source": [
    "test_transformDF.reset_index()"
   ]
  },
  {
   "cell_type": "code",
   "execution_count": 107,
   "metadata": {
    "collapsed": false,
    "scrolled": true
   },
   "outputs": [],
   "source": [
    "test.reset_index(drop=True,inplace=True)"
   ]
  },
  {
   "cell_type": "code",
   "execution_count": 108,
   "metadata": {
    "collapsed": false
   },
   "outputs": [
    {
     "data": {
      "text/html": [
       "<div>\n",
       "<style>\n",
       "    .dataframe thead tr:only-child th {\n",
       "        text-align: right;\n",
       "    }\n",
       "\n",
       "    .dataframe thead th {\n",
       "        text-align: left;\n",
       "    }\n",
       "\n",
       "    .dataframe tbody tr th {\n",
       "        vertical-align: top;\n",
       "    }\n",
       "</style>\n",
       "<table border=\"1\" class=\"dataframe\">\n",
       "  <thead>\n",
       "    <tr style=\"text-align: right;\">\n",
       "      <th></th>\n",
       "      <th>index</th>\n",
       "      <th>created_on</th>\n",
       "      <th>expenses</th>\n",
       "      <th>floor</th>\n",
       "      <th>geonames_id</th>\n",
       "      <th>rooms</th>\n",
       "      <th>surface_total_in_m2</th>\n",
       "      <th>id_place_name</th>\n",
       "      <th>id_states</th>\n",
       "      <th>id_property_type</th>\n",
       "    </tr>\n",
       "  </thead>\n",
       "  <tbody>\n",
       "    <tr>\n",
       "      <th>0</th>\n",
       "      <td>0</td>\n",
       "      <td>1489536000000000000</td>\n",
       "      <td>0.0</td>\n",
       "      <td>0.0</td>\n",
       "      <td>0.0</td>\n",
       "      <td>5.0</td>\n",
       "      <td>500.0</td>\n",
       "      <td>57</td>\n",
       "      <td>0</td>\n",
       "      <td>0</td>\n",
       "    </tr>\n",
       "    <tr>\n",
       "      <th>1</th>\n",
       "      <td>1</td>\n",
       "      <td>1489536000000000000</td>\n",
       "      <td>0.0</td>\n",
       "      <td>0.0</td>\n",
       "      <td>3432039.0</td>\n",
       "      <td>1.0</td>\n",
       "      <td>52.0</td>\n",
       "      <td>3</td>\n",
       "      <td>0</td>\n",
       "      <td>1</td>\n",
       "    </tr>\n",
       "    <tr>\n",
       "      <th>2</th>\n",
       "      <td>2</td>\n",
       "      <td>1489536000000000000</td>\n",
       "      <td>0.0</td>\n",
       "      <td>0.0</td>\n",
       "      <td>3432039.0</td>\n",
       "      <td>2.0</td>\n",
       "      <td>51.0</td>\n",
       "      <td>3</td>\n",
       "      <td>0</td>\n",
       "      <td>1</td>\n",
       "    </tr>\n",
       "    <tr>\n",
       "      <th>3</th>\n",
       "      <td>3</td>\n",
       "      <td>1489536000000000000</td>\n",
       "      <td>0.0</td>\n",
       "      <td>0.0</td>\n",
       "      <td>3432039.0</td>\n",
       "      <td>2.0</td>\n",
       "      <td>72.0</td>\n",
       "      <td>3</td>\n",
       "      <td>0</td>\n",
       "      <td>1</td>\n",
       "    </tr>\n",
       "    <tr>\n",
       "      <th>4</th>\n",
       "      <td>4</td>\n",
       "      <td>1489536000000000000</td>\n",
       "      <td>0.0</td>\n",
       "      <td>0.0</td>\n",
       "      <td>3432039.0</td>\n",
       "      <td>5.0</td>\n",
       "      <td>352.0</td>\n",
       "      <td>3</td>\n",
       "      <td>0</td>\n",
       "      <td>0</td>\n",
       "    </tr>\n",
       "    <tr>\n",
       "      <th>5</th>\n",
       "      <td>5</td>\n",
       "      <td>1489536000000000000</td>\n",
       "      <td>0.0</td>\n",
       "      <td>0.0</td>\n",
       "      <td>3432039.0</td>\n",
       "      <td>1.0</td>\n",
       "      <td>38.0</td>\n",
       "      <td>3</td>\n",
       "      <td>0</td>\n",
       "      <td>1</td>\n",
       "    </tr>\n",
       "    <tr>\n",
       "      <th>6</th>\n",
       "      <td>6</td>\n",
       "      <td>1489536000000000000</td>\n",
       "      <td>0.0</td>\n",
       "      <td>0.0</td>\n",
       "      <td>3432039.0</td>\n",
       "      <td>1.0</td>\n",
       "      <td>38.0</td>\n",
       "      <td>3</td>\n",
       "      <td>0</td>\n",
       "      <td>1</td>\n",
       "    </tr>\n",
       "    <tr>\n",
       "      <th>7</th>\n",
       "      <td>7</td>\n",
       "      <td>1489536000000000000</td>\n",
       "      <td>0.0</td>\n",
       "      <td>0.0</td>\n",
       "      <td>3432039.0</td>\n",
       "      <td>2.0</td>\n",
       "      <td>60.0</td>\n",
       "      <td>3</td>\n",
       "      <td>0</td>\n",
       "      <td>1</td>\n",
       "    </tr>\n",
       "    <tr>\n",
       "      <th>8</th>\n",
       "      <td>8</td>\n",
       "      <td>1489536000000000000</td>\n",
       "      <td>0.0</td>\n",
       "      <td>0.0</td>\n",
       "      <td>3432039.0</td>\n",
       "      <td>2.0</td>\n",
       "      <td>60.0</td>\n",
       "      <td>3</td>\n",
       "      <td>0</td>\n",
       "      <td>1</td>\n",
       "    </tr>\n",
       "    <tr>\n",
       "      <th>9</th>\n",
       "      <td>9</td>\n",
       "      <td>1489536000000000000</td>\n",
       "      <td>0.0</td>\n",
       "      <td>0.0</td>\n",
       "      <td>3432039.0</td>\n",
       "      <td>1.0</td>\n",
       "      <td>38.0</td>\n",
       "      <td>3</td>\n",
       "      <td>0</td>\n",
       "      <td>1</td>\n",
       "    </tr>\n",
       "    <tr>\n",
       "      <th>10</th>\n",
       "      <td>10</td>\n",
       "      <td>1489536000000000000</td>\n",
       "      <td>0.0</td>\n",
       "      <td>0.0</td>\n",
       "      <td>3432039.0</td>\n",
       "      <td>1.0</td>\n",
       "      <td>57.0</td>\n",
       "      <td>3</td>\n",
       "      <td>0</td>\n",
       "      <td>1</td>\n",
       "    </tr>\n",
       "    <tr>\n",
       "      <th>11</th>\n",
       "      <td>11</td>\n",
       "      <td>1489536000000000000</td>\n",
       "      <td>0.0</td>\n",
       "      <td>0.0</td>\n",
       "      <td>3432039.0</td>\n",
       "      <td>2.0</td>\n",
       "      <td>82.0</td>\n",
       "      <td>3</td>\n",
       "      <td>0</td>\n",
       "      <td>1</td>\n",
       "    </tr>\n",
       "    <tr>\n",
       "      <th>12</th>\n",
       "      <td>12</td>\n",
       "      <td>1489536000000000000</td>\n",
       "      <td>0.0</td>\n",
       "      <td>0.0</td>\n",
       "      <td>3432039.0</td>\n",
       "      <td>1.0</td>\n",
       "      <td>42.0</td>\n",
       "      <td>3</td>\n",
       "      <td>0</td>\n",
       "      <td>3</td>\n",
       "    </tr>\n",
       "    <tr>\n",
       "      <th>13</th>\n",
       "      <td>13</td>\n",
       "      <td>1489536000000000000</td>\n",
       "      <td>0.0</td>\n",
       "      <td>0.0</td>\n",
       "      <td>3432039.0</td>\n",
       "      <td>4.0</td>\n",
       "      <td>419.0</td>\n",
       "      <td>3</td>\n",
       "      <td>0</td>\n",
       "      <td>0</td>\n",
       "    </tr>\n",
       "    <tr>\n",
       "      <th>14</th>\n",
       "      <td>14</td>\n",
       "      <td>1489536000000000000</td>\n",
       "      <td>0.0</td>\n",
       "      <td>0.0</td>\n",
       "      <td>0.0</td>\n",
       "      <td>0.0</td>\n",
       "      <td>263.0</td>\n",
       "      <td>57</td>\n",
       "      <td>0</td>\n",
       "      <td>3</td>\n",
       "    </tr>\n",
       "    <tr>\n",
       "      <th>15</th>\n",
       "      <td>15</td>\n",
       "      <td>1489536000000000000</td>\n",
       "      <td>0.0</td>\n",
       "      <td>0.0</td>\n",
       "      <td>3432039.0</td>\n",
       "      <td>1.0</td>\n",
       "      <td>43.0</td>\n",
       "      <td>3</td>\n",
       "      <td>0</td>\n",
       "      <td>1</td>\n",
       "    </tr>\n",
       "    <tr>\n",
       "      <th>16</th>\n",
       "      <td>16</td>\n",
       "      <td>1489536000000000000</td>\n",
       "      <td>0.0</td>\n",
       "      <td>0.0</td>\n",
       "      <td>3432039.0</td>\n",
       "      <td>2.0</td>\n",
       "      <td>50.0</td>\n",
       "      <td>3</td>\n",
       "      <td>0</td>\n",
       "      <td>1</td>\n",
       "    </tr>\n",
       "    <tr>\n",
       "      <th>17</th>\n",
       "      <td>17</td>\n",
       "      <td>1489536000000000000</td>\n",
       "      <td>0.0</td>\n",
       "      <td>0.0</td>\n",
       "      <td>3432039.0</td>\n",
       "      <td>4.0</td>\n",
       "      <td>106.0</td>\n",
       "      <td>3</td>\n",
       "      <td>0</td>\n",
       "      <td>1</td>\n",
       "    </tr>\n",
       "    <tr>\n",
       "      <th>18</th>\n",
       "      <td>18</td>\n",
       "      <td>1489536000000000000</td>\n",
       "      <td>0.0</td>\n",
       "      <td>0.0</td>\n",
       "      <td>3432039.0</td>\n",
       "      <td>1.0</td>\n",
       "      <td>39.0</td>\n",
       "      <td>3</td>\n",
       "      <td>0</td>\n",
       "      <td>1</td>\n",
       "    </tr>\n",
       "    <tr>\n",
       "      <th>19</th>\n",
       "      <td>19</td>\n",
       "      <td>1489536000000000000</td>\n",
       "      <td>0.0</td>\n",
       "      <td>0.0</td>\n",
       "      <td>3432039.0</td>\n",
       "      <td>2.0</td>\n",
       "      <td>47.0</td>\n",
       "      <td>3</td>\n",
       "      <td>0</td>\n",
       "      <td>1</td>\n",
       "    </tr>\n",
       "    <tr>\n",
       "      <th>20</th>\n",
       "      <td>20</td>\n",
       "      <td>1489536000000000000</td>\n",
       "      <td>0.0</td>\n",
       "      <td>0.0</td>\n",
       "      <td>3432039.0</td>\n",
       "      <td>4.0</td>\n",
       "      <td>106.0</td>\n",
       "      <td>3</td>\n",
       "      <td>0</td>\n",
       "      <td>1</td>\n",
       "    </tr>\n",
       "    <tr>\n",
       "      <th>21</th>\n",
       "      <td>21</td>\n",
       "      <td>1489536000000000000</td>\n",
       "      <td>0.0</td>\n",
       "      <td>0.0</td>\n",
       "      <td>3432039.0</td>\n",
       "      <td>4.0</td>\n",
       "      <td>140.0</td>\n",
       "      <td>3</td>\n",
       "      <td>0</td>\n",
       "      <td>1</td>\n",
       "    </tr>\n",
       "    <tr>\n",
       "      <th>22</th>\n",
       "      <td>22</td>\n",
       "      <td>1489536000000000000</td>\n",
       "      <td>0.0</td>\n",
       "      <td>0.0</td>\n",
       "      <td>3432039.0</td>\n",
       "      <td>6.0</td>\n",
       "      <td>320.0</td>\n",
       "      <td>3</td>\n",
       "      <td>0</td>\n",
       "      <td>0</td>\n",
       "    </tr>\n",
       "    <tr>\n",
       "      <th>23</th>\n",
       "      <td>23</td>\n",
       "      <td>1489536000000000000</td>\n",
       "      <td>0.0</td>\n",
       "      <td>0.0</td>\n",
       "      <td>0.0</td>\n",
       "      <td>4.0</td>\n",
       "      <td>431.0</td>\n",
       "      <td>57</td>\n",
       "      <td>0</td>\n",
       "      <td>0</td>\n",
       "    </tr>\n",
       "    <tr>\n",
       "      <th>24</th>\n",
       "      <td>24</td>\n",
       "      <td>1489536000000000000</td>\n",
       "      <td>0.0</td>\n",
       "      <td>0.0</td>\n",
       "      <td>3432039.0</td>\n",
       "      <td>4.0</td>\n",
       "      <td>221.0</td>\n",
       "      <td>3</td>\n",
       "      <td>0</td>\n",
       "      <td>0</td>\n",
       "    </tr>\n",
       "    <tr>\n",
       "      <th>25</th>\n",
       "      <td>25</td>\n",
       "      <td>1489536000000000000</td>\n",
       "      <td>0.0</td>\n",
       "      <td>0.0</td>\n",
       "      <td>3432039.0</td>\n",
       "      <td>1.0</td>\n",
       "      <td>46.0</td>\n",
       "      <td>3</td>\n",
       "      <td>0</td>\n",
       "      <td>1</td>\n",
       "    </tr>\n",
       "    <tr>\n",
       "      <th>26</th>\n",
       "      <td>26</td>\n",
       "      <td>1489536000000000000</td>\n",
       "      <td>0.0</td>\n",
       "      <td>0.0</td>\n",
       "      <td>3432039.0</td>\n",
       "      <td>2.0</td>\n",
       "      <td>59.0</td>\n",
       "      <td>3</td>\n",
       "      <td>0</td>\n",
       "      <td>1</td>\n",
       "    </tr>\n",
       "    <tr>\n",
       "      <th>27</th>\n",
       "      <td>27</td>\n",
       "      <td>1489536000000000000</td>\n",
       "      <td>0.0</td>\n",
       "      <td>0.0</td>\n",
       "      <td>3432039.0</td>\n",
       "      <td>3.0</td>\n",
       "      <td>104.0</td>\n",
       "      <td>3</td>\n",
       "      <td>0</td>\n",
       "      <td>1</td>\n",
       "    </tr>\n",
       "    <tr>\n",
       "      <th>28</th>\n",
       "      <td>28</td>\n",
       "      <td>1489536000000000000</td>\n",
       "      <td>0.0</td>\n",
       "      <td>0.0</td>\n",
       "      <td>3432039.0</td>\n",
       "      <td>1.0</td>\n",
       "      <td>43.0</td>\n",
       "      <td>3</td>\n",
       "      <td>0</td>\n",
       "      <td>1</td>\n",
       "    </tr>\n",
       "    <tr>\n",
       "      <th>29</th>\n",
       "      <td>29</td>\n",
       "      <td>1489536000000000000</td>\n",
       "      <td>0.0</td>\n",
       "      <td>0.0</td>\n",
       "      <td>3432039.0</td>\n",
       "      <td>2.0</td>\n",
       "      <td>59.0</td>\n",
       "      <td>3</td>\n",
       "      <td>0</td>\n",
       "      <td>1</td>\n",
       "    </tr>\n",
       "    <tr>\n",
       "      <th>...</th>\n",
       "      <td>...</td>\n",
       "      <td>...</td>\n",
       "      <td>...</td>\n",
       "      <td>...</td>\n",
       "      <td>...</td>\n",
       "      <td>...</td>\n",
       "      <td>...</td>\n",
       "      <td>...</td>\n",
       "      <td>...</td>\n",
       "      <td>...</td>\n",
       "    </tr>\n",
       "    <tr>\n",
       "      <th>48719</th>\n",
       "      <td>48719</td>\n",
       "      <td>1393545600000000000</td>\n",
       "      <td>0.0</td>\n",
       "      <td>1.0</td>\n",
       "      <td>3435356.0</td>\n",
       "      <td>2.0</td>\n",
       "      <td>43.0</td>\n",
       "      <td>10</td>\n",
       "      <td>1</td>\n",
       "      <td>1</td>\n",
       "    </tr>\n",
       "    <tr>\n",
       "      <th>48720</th>\n",
       "      <td>48720</td>\n",
       "      <td>1393545600000000000</td>\n",
       "      <td>0.0</td>\n",
       "      <td>7.0</td>\n",
       "      <td>3435874.0</td>\n",
       "      <td>2.0</td>\n",
       "      <td>75.0</td>\n",
       "      <td>26</td>\n",
       "      <td>1</td>\n",
       "      <td>1</td>\n",
       "    </tr>\n",
       "    <tr>\n",
       "      <th>48721</th>\n",
       "      <td>48721</td>\n",
       "      <td>1393545600000000000</td>\n",
       "      <td>0.0</td>\n",
       "      <td>6.0</td>\n",
       "      <td>3435874.0</td>\n",
       "      <td>0.0</td>\n",
       "      <td>36.0</td>\n",
       "      <td>26</td>\n",
       "      <td>1</td>\n",
       "      <td>1</td>\n",
       "    </tr>\n",
       "    <tr>\n",
       "      <th>48722</th>\n",
       "      <td>48722</td>\n",
       "      <td>1393545600000000000</td>\n",
       "      <td>0.0</td>\n",
       "      <td>8.0</td>\n",
       "      <td>3427458.0</td>\n",
       "      <td>0.0</td>\n",
       "      <td>63.0</td>\n",
       "      <td>79</td>\n",
       "      <td>1</td>\n",
       "      <td>1</td>\n",
       "    </tr>\n",
       "    <tr>\n",
       "      <th>48723</th>\n",
       "      <td>48723</td>\n",
       "      <td>1393545600000000000</td>\n",
       "      <td>0.0</td>\n",
       "      <td>15.0</td>\n",
       "      <td>3427458.0</td>\n",
       "      <td>0.0</td>\n",
       "      <td>64.0</td>\n",
       "      <td>79</td>\n",
       "      <td>1</td>\n",
       "      <td>1</td>\n",
       "    </tr>\n",
       "    <tr>\n",
       "      <th>48724</th>\n",
       "      <td>48724</td>\n",
       "      <td>1393545600000000000</td>\n",
       "      <td>0.0</td>\n",
       "      <td>6.0</td>\n",
       "      <td>3436077.0</td>\n",
       "      <td>1.0</td>\n",
       "      <td>38.0</td>\n",
       "      <td>13</td>\n",
       "      <td>1</td>\n",
       "      <td>1</td>\n",
       "    </tr>\n",
       "    <tr>\n",
       "      <th>48725</th>\n",
       "      <td>48725</td>\n",
       "      <td>1393545600000000000</td>\n",
       "      <td>0.0</td>\n",
       "      <td>0.0</td>\n",
       "      <td>3430116.0</td>\n",
       "      <td>6.0</td>\n",
       "      <td>320.0</td>\n",
       "      <td>116</td>\n",
       "      <td>1</td>\n",
       "      <td>0</td>\n",
       "    </tr>\n",
       "    <tr>\n",
       "      <th>48726</th>\n",
       "      <td>48726</td>\n",
       "      <td>1393545600000000000</td>\n",
       "      <td>0.0</td>\n",
       "      <td>0.0</td>\n",
       "      <td>3433910.0</td>\n",
       "      <td>4.0</td>\n",
       "      <td>200.0</td>\n",
       "      <td>43</td>\n",
       "      <td>1</td>\n",
       "      <td>0</td>\n",
       "    </tr>\n",
       "    <tr>\n",
       "      <th>48727</th>\n",
       "      <td>48727</td>\n",
       "      <td>1393545600000000000</td>\n",
       "      <td>0.0</td>\n",
       "      <td>2.0</td>\n",
       "      <td>3435506.0</td>\n",
       "      <td>3.0</td>\n",
       "      <td>99.0</td>\n",
       "      <td>120</td>\n",
       "      <td>1</td>\n",
       "      <td>1</td>\n",
       "    </tr>\n",
       "    <tr>\n",
       "      <th>48728</th>\n",
       "      <td>48728</td>\n",
       "      <td>1393545600000000000</td>\n",
       "      <td>0.0</td>\n",
       "      <td>2.0</td>\n",
       "      <td>3430291.0</td>\n",
       "      <td>3.0</td>\n",
       "      <td>72.0</td>\n",
       "      <td>62</td>\n",
       "      <td>1</td>\n",
       "      <td>1</td>\n",
       "    </tr>\n",
       "    <tr>\n",
       "      <th>48729</th>\n",
       "      <td>48729</td>\n",
       "      <td>1393545600000000000</td>\n",
       "      <td>0.0</td>\n",
       "      <td>8.0</td>\n",
       "      <td>3430291.0</td>\n",
       "      <td>0.0</td>\n",
       "      <td>62.0</td>\n",
       "      <td>62</td>\n",
       "      <td>1</td>\n",
       "      <td>1</td>\n",
       "    </tr>\n",
       "    <tr>\n",
       "      <th>48730</th>\n",
       "      <td>48730</td>\n",
       "      <td>1393545600000000000</td>\n",
       "      <td>0.0</td>\n",
       "      <td>2.0</td>\n",
       "      <td>3430291.0</td>\n",
       "      <td>3.0</td>\n",
       "      <td>65.0</td>\n",
       "      <td>62</td>\n",
       "      <td>1</td>\n",
       "      <td>1</td>\n",
       "    </tr>\n",
       "    <tr>\n",
       "      <th>48731</th>\n",
       "      <td>48731</td>\n",
       "      <td>1393545600000000000</td>\n",
       "      <td>0.0</td>\n",
       "      <td>2.0</td>\n",
       "      <td>3430291.0</td>\n",
       "      <td>2.0</td>\n",
       "      <td>40.0</td>\n",
       "      <td>62</td>\n",
       "      <td>1</td>\n",
       "      <td>1</td>\n",
       "    </tr>\n",
       "    <tr>\n",
       "      <th>48732</th>\n",
       "      <td>48732</td>\n",
       "      <td>1393545600000000000</td>\n",
       "      <td>0.0</td>\n",
       "      <td>0.0</td>\n",
       "      <td>3427504.0</td>\n",
       "      <td>1.0</td>\n",
       "      <td>108.0</td>\n",
       "      <td>19</td>\n",
       "      <td>3</td>\n",
       "      <td>1</td>\n",
       "    </tr>\n",
       "    <tr>\n",
       "      <th>48733</th>\n",
       "      <td>48733</td>\n",
       "      <td>1393545600000000000</td>\n",
       "      <td>0.0</td>\n",
       "      <td>0.0</td>\n",
       "      <td>3436394.0</td>\n",
       "      <td>5.0</td>\n",
       "      <td>280.0</td>\n",
       "      <td>285</td>\n",
       "      <td>0</td>\n",
       "      <td>0</td>\n",
       "    </tr>\n",
       "    <tr>\n",
       "      <th>48734</th>\n",
       "      <td>48734</td>\n",
       "      <td>1393545600000000000</td>\n",
       "      <td>0.0</td>\n",
       "      <td>8.0</td>\n",
       "      <td>3427753.0</td>\n",
       "      <td>2.0</td>\n",
       "      <td>69.0</td>\n",
       "      <td>15</td>\n",
       "      <td>3</td>\n",
       "      <td>1</td>\n",
       "    </tr>\n",
       "    <tr>\n",
       "      <th>48735</th>\n",
       "      <td>48735</td>\n",
       "      <td>1393545600000000000</td>\n",
       "      <td>0.0</td>\n",
       "      <td>0.0</td>\n",
       "      <td>3434003.0</td>\n",
       "      <td>3.0</td>\n",
       "      <td>100.0</td>\n",
       "      <td>106</td>\n",
       "      <td>0</td>\n",
       "      <td>0</td>\n",
       "    </tr>\n",
       "    <tr>\n",
       "      <th>48736</th>\n",
       "      <td>48736</td>\n",
       "      <td>1393545600000000000</td>\n",
       "      <td>0.0</td>\n",
       "      <td>0.0</td>\n",
       "      <td>3434003.0</td>\n",
       "      <td>2.0</td>\n",
       "      <td>80.0</td>\n",
       "      <td>106</td>\n",
       "      <td>0</td>\n",
       "      <td>3</td>\n",
       "    </tr>\n",
       "    <tr>\n",
       "      <th>48737</th>\n",
       "      <td>48737</td>\n",
       "      <td>1393545600000000000</td>\n",
       "      <td>0.0</td>\n",
       "      <td>0.0</td>\n",
       "      <td>3427504.0</td>\n",
       "      <td>3.0</td>\n",
       "      <td>110.0</td>\n",
       "      <td>19</td>\n",
       "      <td>3</td>\n",
       "      <td>0</td>\n",
       "    </tr>\n",
       "    <tr>\n",
       "      <th>48738</th>\n",
       "      <td>48738</td>\n",
       "      <td>1393545600000000000</td>\n",
       "      <td>0.0</td>\n",
       "      <td>0.0</td>\n",
       "      <td>3433975.0</td>\n",
       "      <td>3.0</td>\n",
       "      <td>148.0</td>\n",
       "      <td>148</td>\n",
       "      <td>0</td>\n",
       "      <td>0</td>\n",
       "    </tr>\n",
       "    <tr>\n",
       "      <th>48739</th>\n",
       "      <td>48739</td>\n",
       "      <td>1393545600000000000</td>\n",
       "      <td>0.0</td>\n",
       "      <td>0.0</td>\n",
       "      <td>3427504.0</td>\n",
       "      <td>3.0</td>\n",
       "      <td>160.0</td>\n",
       "      <td>19</td>\n",
       "      <td>3</td>\n",
       "      <td>0</td>\n",
       "    </tr>\n",
       "    <tr>\n",
       "      <th>48740</th>\n",
       "      <td>48740</td>\n",
       "      <td>1393545600000000000</td>\n",
       "      <td>0.0</td>\n",
       "      <td>0.0</td>\n",
       "      <td>3427504.0</td>\n",
       "      <td>3.0</td>\n",
       "      <td>110.0</td>\n",
       "      <td>19</td>\n",
       "      <td>3</td>\n",
       "      <td>3</td>\n",
       "    </tr>\n",
       "    <tr>\n",
       "      <th>48741</th>\n",
       "      <td>48741</td>\n",
       "      <td>1393545600000000000</td>\n",
       "      <td>0.0</td>\n",
       "      <td>0.0</td>\n",
       "      <td>3429088.0</td>\n",
       "      <td>3.0</td>\n",
       "      <td>90.0</td>\n",
       "      <td>68</td>\n",
       "      <td>3</td>\n",
       "      <td>3</td>\n",
       "    </tr>\n",
       "    <tr>\n",
       "      <th>48742</th>\n",
       "      <td>48742</td>\n",
       "      <td>1393545600000000000</td>\n",
       "      <td>0.0</td>\n",
       "      <td>0.0</td>\n",
       "      <td>3428983.0</td>\n",
       "      <td>3.0</td>\n",
       "      <td>145.0</td>\n",
       "      <td>14</td>\n",
       "      <td>3</td>\n",
       "      <td>0</td>\n",
       "    </tr>\n",
       "    <tr>\n",
       "      <th>48743</th>\n",
       "      <td>48743</td>\n",
       "      <td>1393545600000000000</td>\n",
       "      <td>0.0</td>\n",
       "      <td>103.0</td>\n",
       "      <td>3429979.0</td>\n",
       "      <td>1.0</td>\n",
       "      <td>41.0</td>\n",
       "      <td>22</td>\n",
       "      <td>3</td>\n",
       "      <td>1</td>\n",
       "    </tr>\n",
       "    <tr>\n",
       "      <th>48744</th>\n",
       "      <td>48744</td>\n",
       "      <td>1393545600000000000</td>\n",
       "      <td>0.0</td>\n",
       "      <td>0.0</td>\n",
       "      <td>3427753.0</td>\n",
       "      <td>1.0</td>\n",
       "      <td>49.0</td>\n",
       "      <td>15</td>\n",
       "      <td>3</td>\n",
       "      <td>1</td>\n",
       "    </tr>\n",
       "    <tr>\n",
       "      <th>48745</th>\n",
       "      <td>48745</td>\n",
       "      <td>1393545600000000000</td>\n",
       "      <td>0.0</td>\n",
       "      <td>0.0</td>\n",
       "      <td>3427753.0</td>\n",
       "      <td>4.0</td>\n",
       "      <td>203.0</td>\n",
       "      <td>15</td>\n",
       "      <td>3</td>\n",
       "      <td>0</td>\n",
       "    </tr>\n",
       "    <tr>\n",
       "      <th>48746</th>\n",
       "      <td>48746</td>\n",
       "      <td>1393545600000000000</td>\n",
       "      <td>0.0</td>\n",
       "      <td>0.0</td>\n",
       "      <td>3430550.0</td>\n",
       "      <td>2.0</td>\n",
       "      <td>120.0</td>\n",
       "      <td>61</td>\n",
       "      <td>2</td>\n",
       "      <td>0</td>\n",
       "    </tr>\n",
       "    <tr>\n",
       "      <th>48747</th>\n",
       "      <td>48747</td>\n",
       "      <td>1393545600000000000</td>\n",
       "      <td>8600.0</td>\n",
       "      <td>0.0</td>\n",
       "      <td>3436109.0</td>\n",
       "      <td>3.0</td>\n",
       "      <td>324.0</td>\n",
       "      <td>31</td>\n",
       "      <td>1</td>\n",
       "      <td>1</td>\n",
       "    </tr>\n",
       "    <tr>\n",
       "      <th>48748</th>\n",
       "      <td>48748</td>\n",
       "      <td>1393545600000000000</td>\n",
       "      <td>0.0</td>\n",
       "      <td>1.0</td>\n",
       "      <td>3429979.0</td>\n",
       "      <td>3.0</td>\n",
       "      <td>268.0</td>\n",
       "      <td>22</td>\n",
       "      <td>3</td>\n",
       "      <td>0</td>\n",
       "    </tr>\n",
       "  </tbody>\n",
       "</table>\n",
       "<p>48749 rows × 10 columns</p>\n",
       "</div>"
      ],
      "text/plain": [
       "       index           created_on  expenses  floor  geonames_id  rooms  \\\n",
       "0          0  1489536000000000000       0.0    0.0          0.0    5.0   \n",
       "1          1  1489536000000000000       0.0    0.0    3432039.0    1.0   \n",
       "2          2  1489536000000000000       0.0    0.0    3432039.0    2.0   \n",
       "3          3  1489536000000000000       0.0    0.0    3432039.0    2.0   \n",
       "4          4  1489536000000000000       0.0    0.0    3432039.0    5.0   \n",
       "5          5  1489536000000000000       0.0    0.0    3432039.0    1.0   \n",
       "6          6  1489536000000000000       0.0    0.0    3432039.0    1.0   \n",
       "7          7  1489536000000000000       0.0    0.0    3432039.0    2.0   \n",
       "8          8  1489536000000000000       0.0    0.0    3432039.0    2.0   \n",
       "9          9  1489536000000000000       0.0    0.0    3432039.0    1.0   \n",
       "10        10  1489536000000000000       0.0    0.0    3432039.0    1.0   \n",
       "11        11  1489536000000000000       0.0    0.0    3432039.0    2.0   \n",
       "12        12  1489536000000000000       0.0    0.0    3432039.0    1.0   \n",
       "13        13  1489536000000000000       0.0    0.0    3432039.0    4.0   \n",
       "14        14  1489536000000000000       0.0    0.0          0.0    0.0   \n",
       "15        15  1489536000000000000       0.0    0.0    3432039.0    1.0   \n",
       "16        16  1489536000000000000       0.0    0.0    3432039.0    2.0   \n",
       "17        17  1489536000000000000       0.0    0.0    3432039.0    4.0   \n",
       "18        18  1489536000000000000       0.0    0.0    3432039.0    1.0   \n",
       "19        19  1489536000000000000       0.0    0.0    3432039.0    2.0   \n",
       "20        20  1489536000000000000       0.0    0.0    3432039.0    4.0   \n",
       "21        21  1489536000000000000       0.0    0.0    3432039.0    4.0   \n",
       "22        22  1489536000000000000       0.0    0.0    3432039.0    6.0   \n",
       "23        23  1489536000000000000       0.0    0.0          0.0    4.0   \n",
       "24        24  1489536000000000000       0.0    0.0    3432039.0    4.0   \n",
       "25        25  1489536000000000000       0.0    0.0    3432039.0    1.0   \n",
       "26        26  1489536000000000000       0.0    0.0    3432039.0    2.0   \n",
       "27        27  1489536000000000000       0.0    0.0    3432039.0    3.0   \n",
       "28        28  1489536000000000000       0.0    0.0    3432039.0    1.0   \n",
       "29        29  1489536000000000000       0.0    0.0    3432039.0    2.0   \n",
       "...      ...                  ...       ...    ...          ...    ...   \n",
       "48719  48719  1393545600000000000       0.0    1.0    3435356.0    2.0   \n",
       "48720  48720  1393545600000000000       0.0    7.0    3435874.0    2.0   \n",
       "48721  48721  1393545600000000000       0.0    6.0    3435874.0    0.0   \n",
       "48722  48722  1393545600000000000       0.0    8.0    3427458.0    0.0   \n",
       "48723  48723  1393545600000000000       0.0   15.0    3427458.0    0.0   \n",
       "48724  48724  1393545600000000000       0.0    6.0    3436077.0    1.0   \n",
       "48725  48725  1393545600000000000       0.0    0.0    3430116.0    6.0   \n",
       "48726  48726  1393545600000000000       0.0    0.0    3433910.0    4.0   \n",
       "48727  48727  1393545600000000000       0.0    2.0    3435506.0    3.0   \n",
       "48728  48728  1393545600000000000       0.0    2.0    3430291.0    3.0   \n",
       "48729  48729  1393545600000000000       0.0    8.0    3430291.0    0.0   \n",
       "48730  48730  1393545600000000000       0.0    2.0    3430291.0    3.0   \n",
       "48731  48731  1393545600000000000       0.0    2.0    3430291.0    2.0   \n",
       "48732  48732  1393545600000000000       0.0    0.0    3427504.0    1.0   \n",
       "48733  48733  1393545600000000000       0.0    0.0    3436394.0    5.0   \n",
       "48734  48734  1393545600000000000       0.0    8.0    3427753.0    2.0   \n",
       "48735  48735  1393545600000000000       0.0    0.0    3434003.0    3.0   \n",
       "48736  48736  1393545600000000000       0.0    0.0    3434003.0    2.0   \n",
       "48737  48737  1393545600000000000       0.0    0.0    3427504.0    3.0   \n",
       "48738  48738  1393545600000000000       0.0    0.0    3433975.0    3.0   \n",
       "48739  48739  1393545600000000000       0.0    0.0    3427504.0    3.0   \n",
       "48740  48740  1393545600000000000       0.0    0.0    3427504.0    3.0   \n",
       "48741  48741  1393545600000000000       0.0    0.0    3429088.0    3.0   \n",
       "48742  48742  1393545600000000000       0.0    0.0    3428983.0    3.0   \n",
       "48743  48743  1393545600000000000       0.0  103.0    3429979.0    1.0   \n",
       "48744  48744  1393545600000000000       0.0    0.0    3427753.0    1.0   \n",
       "48745  48745  1393545600000000000       0.0    0.0    3427753.0    4.0   \n",
       "48746  48746  1393545600000000000       0.0    0.0    3430550.0    2.0   \n",
       "48747  48747  1393545600000000000    8600.0    0.0    3436109.0    3.0   \n",
       "48748  48748  1393545600000000000       0.0    1.0    3429979.0    3.0   \n",
       "\n",
       "       surface_total_in_m2  id_place_name  id_states  id_property_type  \n",
       "0                    500.0             57          0                 0  \n",
       "1                     52.0              3          0                 1  \n",
       "2                     51.0              3          0                 1  \n",
       "3                     72.0              3          0                 1  \n",
       "4                    352.0              3          0                 0  \n",
       "5                     38.0              3          0                 1  \n",
       "6                     38.0              3          0                 1  \n",
       "7                     60.0              3          0                 1  \n",
       "8                     60.0              3          0                 1  \n",
       "9                     38.0              3          0                 1  \n",
       "10                    57.0              3          0                 1  \n",
       "11                    82.0              3          0                 1  \n",
       "12                    42.0              3          0                 3  \n",
       "13                   419.0              3          0                 0  \n",
       "14                   263.0             57          0                 3  \n",
       "15                    43.0              3          0                 1  \n",
       "16                    50.0              3          0                 1  \n",
       "17                   106.0              3          0                 1  \n",
       "18                    39.0              3          0                 1  \n",
       "19                    47.0              3          0                 1  \n",
       "20                   106.0              3          0                 1  \n",
       "21                   140.0              3          0                 1  \n",
       "22                   320.0              3          0                 0  \n",
       "23                   431.0             57          0                 0  \n",
       "24                   221.0              3          0                 0  \n",
       "25                    46.0              3          0                 1  \n",
       "26                    59.0              3          0                 1  \n",
       "27                   104.0              3          0                 1  \n",
       "28                    43.0              3          0                 1  \n",
       "29                    59.0              3          0                 1  \n",
       "...                    ...            ...        ...               ...  \n",
       "48719                 43.0             10          1                 1  \n",
       "48720                 75.0             26          1                 1  \n",
       "48721                 36.0             26          1                 1  \n",
       "48722                 63.0             79          1                 1  \n",
       "48723                 64.0             79          1                 1  \n",
       "48724                 38.0             13          1                 1  \n",
       "48725                320.0            116          1                 0  \n",
       "48726                200.0             43          1                 0  \n",
       "48727                 99.0            120          1                 1  \n",
       "48728                 72.0             62          1                 1  \n",
       "48729                 62.0             62          1                 1  \n",
       "48730                 65.0             62          1                 1  \n",
       "48731                 40.0             62          1                 1  \n",
       "48732                108.0             19          3                 1  \n",
       "48733                280.0            285          0                 0  \n",
       "48734                 69.0             15          3                 1  \n",
       "48735                100.0            106          0                 0  \n",
       "48736                 80.0            106          0                 3  \n",
       "48737                110.0             19          3                 0  \n",
       "48738                148.0            148          0                 0  \n",
       "48739                160.0             19          3                 0  \n",
       "48740                110.0             19          3                 3  \n",
       "48741                 90.0             68          3                 3  \n",
       "48742                145.0             14          3                 0  \n",
       "48743                 41.0             22          3                 1  \n",
       "48744                 49.0             15          3                 1  \n",
       "48745                203.0             15          3                 0  \n",
       "48746                120.0             61          2                 0  \n",
       "48747                324.0             31          1                 1  \n",
       "48748                268.0             22          3                 0  \n",
       "\n",
       "[48749 rows x 10 columns]"
      ]
     },
     "execution_count": 108,
     "metadata": {},
     "output_type": "execute_result"
    }
   ],
   "source": [
    "test.reset_index()"
   ]
  },
  {
   "cell_type": "code",
   "execution_count": null,
   "metadata": {
    "collapsed": true
   },
   "outputs": [],
   "source": [
    "test.merge()"
   ]
  },
  {
   "cell_type": "code",
   "execution_count": null,
   "metadata": {
    "collapsed": true,
    "deletable": true,
    "editable": true
   },
   "outputs": [],
   "source": [
    "train = pd.DataFrame(train_transform)"
   ]
  },
  {
   "cell_type": "markdown",
   "metadata": {
    "collapsed": true,
    "deletable": true,
    "editable": true
   },
   "source": [
    "# Machine Learning\n"
   ]
  },
  {
   "cell_type": "code",
   "execution_count": null,
   "metadata": {
    "collapsed": true,
    "deletable": true,
    "editable": true
   },
   "outputs": [],
   "source": [
    "from sklearn import neighbors"
   ]
  },
  {
   "cell_type": "code",
   "execution_count": null,
   "metadata": {
    "collapsed": true,
    "deletable": true,
    "editable": true
   },
   "outputs": [],
   "source": [
    "msqDF = pd.DataFrame(columns={'k-Neighbors','p_minkowski','mean_squear_error'})"
   ]
  },
  {
   "cell_type": "code",
   "execution_count": null,
   "metadata": {
    "collapsed": false,
    "deletable": true,
    "editable": true
   },
   "outputs": [],
   "source": [
    "for k in xrange(1,1+200) :\n",
    "    print k\n",
    "    for p in xrange(1,1+10):\n",
    "        knn = neighbors.KNeighborsRegressor(n_neighbors=k,n_jobs=-1,p=p)\n",
    "        knn.fit(train,train_target)\n",
    "        test_prediction = knn.predict(test)\n",
    "        msq_knn = mean_squared_error(test_prediction, test_target)\n",
    "        msqDF = msqDF.append( pd.DataFrame(data={'k-Neighbors' : [k],'p_minkowski' : [p] ,'mean_squear_error' :[msq_knn]}) )"
   ]
  },
  {
   "cell_type": "code",
   "execution_count": null,
   "metadata": {
    "collapsed": false,
    "deletable": true,
    "editable": true
   },
   "outputs": [],
   "source": [
    "msqDF.describe()"
   ]
  },
  {
   "cell_type": "code",
   "execution_count": null,
   "metadata": {
    "collapsed": false,
    "deletable": true,
    "editable": true,
    "scrolled": true
   },
   "outputs": [],
   "source": [
    "msqDF"
   ]
  },
  {
   "cell_type": "code",
   "execution_count": null,
   "metadata": {
    "collapsed": false,
    "deletable": true,
    "editable": true
   },
   "outputs": [],
   "source": [
    "msqDF[msqDF['mean_squear_error'] == msqDF.mean_squear_error.min()]"
   ]
  },
  {
   "cell_type": "markdown",
   "metadata": {
    "deletable": true,
    "editable": true
   },
   "source": [
    "###  Se llega la conclusion de que con un....."
   ]
  },
  {
   "cell_type": "code",
   "execution_count": null,
   "metadata": {
    "collapsed": true,
    "deletable": true,
    "editable": true
   },
   "outputs": [],
   "source": []
  },
  {
   "cell_type": "code",
   "execution_count": null,
   "metadata": {
    "collapsed": true,
    "deletable": true,
    "editable": true
   },
   "outputs": [],
   "source": []
  }
 ],
 "metadata": {
  "kernelspec": {
   "display_name": "Python 2",
   "language": "python",
   "name": "python2"
  },
  "language_info": {
   "codemirror_mode": {
    "name": "ipython",
    "version": 2
   },
   "file_extension": ".py",
   "mimetype": "text/x-python",
   "name": "python",
   "nbconvert_exporter": "python",
   "pygments_lexer": "ipython2",
   "version": "2.7.12"
  }
 },
 "nbformat": 4,
 "nbformat_minor": 2
}
